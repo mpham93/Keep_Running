{
 "cells": [
  {
   "cell_type": "markdown",
   "metadata": {},
   "source": [
    "### 1. Import package "
   ]
  },
  {
   "cell_type": "code",
   "execution_count": 86,
   "metadata": {},
   "outputs": [],
   "source": [
    "import os, sys\n",
    "sys.path.append('../src/')\n",
    "import pandas as pd\n",
    "import numpy as np\n",
    "import matplotlib.pyplot as plt\n",
    "from sklearn.linear_model import LogisticRegression\n",
    "from sklearn.ensemble import RandomForestClassifier, ExtraTreesClassifier\n",
    "from sklearn.preprocessing import MinMaxScaler, StandardScaler, LabelEncoder\n",
    "from sklearn.model_selection import train_test_split, GridSearchCV, RandomizedSearchCV\n",
    "from sklearn import tree\n",
    "from sklearn import preprocessing\n",
    "from sklearn.feature_selection import RFE\n",
    "import eli5\n",
    "from eli5.sklearn import PermutationImportance\n",
    "import pydot\n",
    "import pydotplus\n",
    "from activityFeature_engineer import *\n",
    "from pred_model import *\n",
    "from AppAct_df import *"
   ]
  },
  {
   "cell_type": "markdown",
   "metadata": {},
   "source": [
    "### 2. Load data of app activities"
   ]
  },
  {
   "cell_type": "code",
   "execution_count": 2,
   "metadata": {
    "jupyter": {
     "outputs_hidden": true
    }
   },
   "outputs": [
    {
     "name": "stderr",
     "output_type": "stream",
     "text": [
      "/Users/minhpham/Desktop/Ongo/Ongo/OngoEnv/lib/python3.8/site-packages/numpy/lib/arraysetops.py:580: FutureWarning: elementwise comparison failed; returning scalar instead, but in the future will perform elementwise comparison\n",
      "  mask |= (ar1 == a)\n"
     ]
    }
   ],
   "source": [
    "data_dir = '../data/S3/AppEventData/'\n",
    "CommunityMember, SubscriptionHistory, ActivityComplete, SessionCompleted, \\\n",
    "LibrarySelectedTab, ScreenViewed, AppForeground, SessionViewed = process_AppAct_df (data_dir)"
   ]
  },
  {
   "cell_type": "markdown",
   "metadata": {},
   "source": [
    "### 3. Sample trial users"
   ]
  },
  {
   "cell_type": "markdown",
   "metadata": {},
   "source": [
    "##### 3.1 Remove Legacy/Hubspot and Administrator users"
   ]
  },
  {
   "cell_type": "code",
   "execution_count": 3,
   "metadata": {},
   "outputs": [
    {
     "name": "stdout",
     "output_type": "stream",
     "text": [
      "53009 2269\n"
     ]
    }
   ],
   "source": [
    "CommunityMember_filter = CommunityMember[CommunityMember['membershipName'] != 'Legacy']\n",
    "CommunityMember_filter = CommunityMember_filter[CommunityMember_filter['membershipSource'] != 'Administrator']\n",
    "CommunityMember_filter = CommunityMember_filter[CommunityMember_filter['membershipSource'] != 'Hubspot']\n",
    "CommunityMember_filter_id = CommunityMember_filter.user.unique()\n",
    "print (CommunityMember_filter[CommunityMember_filter['membershipSource']=='Unknown'].shape[0], \\\n",
    "       CommunityMember_filter[CommunityMember_filter['membershipSource']!='Unknown'].shape[0])"
   ]
  },
  {
   "cell_type": "markdown",
   "metadata": {},
   "source": [
    "##### 3.2 Select users with purchase and users with free trials"
   ]
  },
  {
   "cell_type": "code",
   "execution_count": 4,
   "metadata": {},
   "outputs": [
    {
     "name": "stdout",
     "output_type": "stream",
     "text": [
      "1559 purchase users, 1629 trial users, 712 intersected\n"
     ]
    }
   ],
   "source": [
    "SubscriptionHistory_purchase = SubscriptionHistory[SubscriptionHistory.event == 'subscription-purchase']\n",
    "SubscriptionHistory_freeTrial = SubscriptionHistory[SubscriptionHistory.event == 'subscription-free-trial']\n",
    "SubscriptionHistory_purchase_id = SubscriptionHistory_purchase.user.unique()\n",
    "SubscriptionHistory_freeTrial_id = SubscriptionHistory_freeTrial.user.unique()\n",
    "print (f'{len(SubscriptionHistory_purchase_id)} purchase users, {len(SubscriptionHistory_freeTrial_id)} trial users, \\\n",
    "{len(set(SubscriptionHistory_purchase_id).intersection(SubscriptionHistory_freeTrial_id))} intersected')"
   ]
  },
  {
   "cell_type": "markdown",
   "metadata": {},
   "source": [
    "##### 3.3 Select users with purchase converted from trial"
   ]
  },
  {
   "cell_type": "code",
   "execution_count": 5,
   "metadata": {},
   "outputs": [
    {
     "name": "stdout",
     "output_type": "stream",
     "text": [
      "917 nonconverted trial users, 707 converted trial users\n"
     ]
    }
   ],
   "source": [
    "convertedFromTrial_id = SubscriptionHistory[SubscriptionHistory.convertedFromTrial == bool('True')].user.unique()\n",
    "nonconverted_trial = set(SubscriptionHistory_freeTrial_id).difference(SubscriptionHistory_purchase_id)\n",
    "converted_trial = set(SubscriptionHistory_freeTrial_id).intersection(SubscriptionHistory_purchase_id).intersection(convertedFromTrial_id)\n",
    "print (f'{len(nonconverted_trial)} nonconverted trial users, {len(converted_trial)} converted trial users')"
   ]
  },
  {
   "cell_type": "markdown",
   "metadata": {},
   "source": [
    "##### 3.4 Select trial users that are not Legacy/Hubspot/Admin"
   ]
  },
  {
   "cell_type": "code",
   "execution_count": 6,
   "metadata": {},
   "outputs": [
    {
     "name": "stdout",
     "output_type": "stream",
     "text": [
      "Filtering the Legacy and Admin users: 864 nonconverted, 698 converted\n"
     ]
    }
   ],
   "source": [
    "nonconverted = nonconverted_trial.intersection(CommunityMember_filter_id)\n",
    "converted = converted_trial.intersection(CommunityMember_filter_id)\n",
    "print (f'Filtering the Legacy and Admin users: {len(nonconverted)} nonconverted, {len(converted)} converted')\n",
    "IDs = list(nonconverted) + list(converted)"
   ]
  },
  {
   "cell_type": "markdown",
   "metadata": {},
   "source": [
    "### 4. EAD: How many days before trials?"
   ]
  },
  {
   "cell_type": "code",
   "execution_count": 7,
   "metadata": {
    "scrolled": true
   },
   "outputs": [
    {
     "name": "stdout",
     "output_type": "stream",
     "text": [
      "Users that created an account before trial\n",
      "          days_create2Trial\n",
      "                      count\n",
      "Converted                  \n",
      "False                   202\n",
      "True                    316 \n",
      "\n",
      "The number of days before trial of these users \n",
      " X-axis = number of days before trials \n",
      " y-axis = freq\n",
      "[<AxesSubplot:title={'center':'False'}>\n",
      " <AxesSubplot:title={'center':'True'}>]\n"
     ]
    },
    {
     "data": {
      "image/png": "[encoded data removed]",
      "text/plain": [
       "<Figure size 432x288 with 2 Axes>"
      ]
     },
     "metadata": {
      "needs_background": "light"
     },
     "output_type": "display_data"
    }
   ],
   "source": [
    "b4Trial_dict = {}\n",
    "for ID in IDs:\n",
    "    trial_start = pd.to_datetime(SubscriptionHistory[(SubscriptionHistory['user']==ID)&(SubscriptionHistory['event']=='subscription-free-trial')]['eventDate'].values)\n",
    "    create_date = pd.to_datetime(CommunityMember[(CommunityMember['user']==ID)]['createdAt'].values)\n",
    "    b4Trial_dict[ID] = (trial_start-create_date).days.values[0]\n",
    "    \n",
    "b4Trial_df = pd.DataFrame(list(b4Trial_dict.items()), columns = ['user', 'days_create2Trial']).set_index(['user'])\n",
    "b4Trial_df['Converted'] = bool(True)\n",
    "b4Trial_df.loc[list(nonconverted), 'Converted'] =  bool(False)\n",
    "\n",
    "# print ('Trial users whose subscribe before creation date')\n",
    "# print (b4Trial_df[b4Trial_df.days_create2Trial < 0])\n",
    "\n",
    "b4Trial_filter = b4Trial_df[(b4Trial_df.days_create2Trial > 0)]\n",
    "print ('Users that created an account before trial')\n",
    "print (b4Trial_filter.groupby(['Converted']).agg(['count']), '\\n')\n",
    "\n",
    "print ('The number of days before trial of these users \\n X-axis = number of days before trials \\n y-axis = freq')\n",
    "print (b4Trial_filter.days_create2Trial.hist(by=b4Trial_filter.Converted))"
   ]
  },
  {
   "cell_type": "markdown",
   "metadata": {},
   "source": [
    "## 5. Feature engineering"
   ]
  },
  {
   "cell_type": "code",
   "execution_count": 8,
   "metadata": {},
   "outputs": [
    {
     "name": "stdout",
     "output_type": "stream",
     "text": [
      "original shape (33024, 3), after filtering (2540, 3)\n",
      "original shape (138615, 3), after filtering (8709, 3)\n",
      "original shape (224454, 3), after filtering (10648, 3)\n",
      "original shape (8248479, 3), after filtering (83736, 3)\n",
      "original shape (649540, 2), after filtering (18251, 2)\n",
      "original shape (1820641, 3), after filtering (96517, 3)\n"
     ]
    }
   ],
   "source": [
    "# During trial: freq, cons\n",
    "DFs = ActivityComplete, SessionCompleted, LibrarySelectedTab, ScreenViewed, AppForeground, SessionViewed\n",
    "trial_activity = feature_duration(DFs, IDs, SubscriptionHistory)"
   ]
  },
  {
   "cell_type": "code",
   "execution_count": 9,
   "metadata": {},
   "outputs": [
    {
     "name": "stdout",
     "output_type": "stream",
     "text": [
      "original shape (2540, 3), after filtering (642, 3)\n",
      "original shape (8709, 3), after filtering (6346, 3)\n",
      "original shape (10648, 3), after filtering (8278, 3)\n",
      "original shape (83736, 3), after filtering (53653, 3)\n",
      "original shape (18251, 2), after filtering (11961, 2)\n",
      "original shape (96517, 3), after filtering (55870, 3)\n"
     ]
    }
   ],
   "source": [
    "# During first 2 days of trial: freq\n",
    "DFs = trial_activity['ActivityComplete']['filter'], trial_activity['SessionCompleted']['filter'], \\\n",
    "trial_activity['LibrarySelectedTab']['filter'], trial_activity['ScreenViewed']['filter'], \\\n",
    "trial_activity['AppForeground']['filter'], trial_activity['SessionViewed']['filter']\n",
    "trial2_activity = feature_duration(DFs, IDs, SubscriptionHistory, duration = 3, consecutive = False)"
   ]
  },
  {
   "cell_type": "code",
   "execution_count": 21,
   "metadata": {},
   "outputs": [
    {
     "name": "stdout",
     "output_type": "stream",
     "text": [
      "original shape (33024, 3), after filtering (11, 3)\n",
      "original shape (138615, 3), after filtering (674, 3)\n",
      "original shape (224454, 3), after filtering (1135, 3)\n",
      "original shape (8248479, 3), after filtering (9567, 3)\n",
      "original shape (649540, 2), after filtering (1385, 2)\n",
      "original shape (1820641, 3), after filtering (5109, 3)\n"
     ]
    }
   ],
   "source": [
    "# Before trial: freq, daily ave, norm\n",
    "DFs = ActivityComplete, SessionCompleted, LibrarySelectedTab, ScreenViewed, AppForeground, SessionViewed\n",
    "b4_activity = feature_duration(DFs, IDs, SubscriptionHistory, add = False, consecutive = False, cal_ave = True, dayDF = b4Trial_filter)"
   ]
  },
  {
   "cell_type": "code",
   "execution_count": 22,
   "metadata": {},
   "outputs": [],
   "source": [
    "# 7 days before and 7 days during trial: cons\n",
    "\n",
    "DFs = pd.concat([trial_activity['ActivityComplete']['filter'], b4_activity['ActivityComplete']['filter']]), \\\n",
    "pd.concat([trial_activity['SessionCompleted']['filter'], b4_activity['SessionCompleted']['filter']]), \\\n",
    "pd.concat([trial_activity['LibrarySelectedTab']['filter'], b4_activity['LibrarySelectedTab']['filter']]), \\\n",
    "pd.concat([trial_activity['ScreenViewed']['filter'], b4_activity['ScreenViewed']['filter']]), \\\n",
    "pd.concat([trial_activity['AppForeground']['filter'], b4_activity['AppForeground']['filter']]), \\\n",
    "pd.concat([trial_activity['SessionViewed']['filter'], b4_activity['SessionViewed']['filter']])\n",
    "\n",
    "b4_duringTrial_activity = feature_duration(DFs, IDs, SubscriptionHistory, filter = False, freq = False)"
   ]
  },
  {
   "cell_type": "markdown",
   "metadata": {},
   "source": [
    "## 6. Feature dataframe\n",
    "Column 'Converted': True = converted, False = nonconverted "
   ]
  },
  {
   "cell_type": "code",
   "execution_count": 470,
   "metadata": {},
   "outputs": [],
   "source": [
    "# Converted/Churned Trial Users - Select users that do not have ambiguous days before trial\n",
    "feature_df = b4Trial_df[(b4Trial_df.days_create2Trial >= 0)]\n",
    "# m = b4Trial_df[(b4Trial_df.days_create2Trial >= 0)]\n",
    "# IDs_loaded = []\n",
    "# for line in open('../results/IDs.txt'):\n",
    "#     line = line.strip('\\n')\n",
    "#     IDs_loaded.append(line)\n",
    "# feature_df = pd.DataFrame(index = IDs_loaded, columns=['Converted'])\n",
    "# feature_df.index.name = 'user'\n",
    "# feature_df['Converted'] = bool(True)\n",
    "# feature_df.loc[list(nonconverted), 'Converted'] =  bool(False)\n",
    "# feature_df['days_create2Trial'] = m['days_create2Trial']"
   ]
  },
  {
   "cell_type": "code",
   "execution_count": null,
   "metadata": {},
   "outputs": [],
   "source": []
  },
  {
   "cell_type": "code",
   "execution_count": 471,
   "metadata": {},
   "outputs": [],
   "source": [
    "# Features: Goal & Experience\n",
    "CommunityMember_join = CommunityMember[['user','goal', 'exp']].set_index('user')\n",
    "feature_df = feature_df.join(CommunityMember_join)\n",
    "feature_df = feature_df[feature_df.goal.notnull()]\n",
    "feature_df = feature_df[feature_df.exp.notnull()]\n",
    "# one hot encoding\n",
    "feature_df = pd.concat([feature_df,pd.get_dummies(feature_df['goal'], prefix='goal')],axis=1)\n",
    "feature_df.drop(['goal'],axis=1, inplace=True)\n",
    "feature_df = pd.concat([feature_df,pd.get_dummies(feature_df['exp'], prefix='exp')],axis=1)\n",
    "feature_df.drop(['exp'],axis=1, inplace=True)"
   ]
  },
  {
   "cell_type": "code",
   "execution_count": 472,
   "metadata": {},
   "outputs": [
    {
     "name": "stdout",
     "output_type": "stream",
     "text": [
      "(1551, 27)\n",
      "(1551, 39)\n",
      "(1551, 45)\n",
      "(1551, 51)\n"
     ]
    }
   ],
   "source": [
    "# Append app activity features\n",
    "def append_feature_df (feature, pre_column, renamed_column, feature_df):\n",
    "    feature_renamed = feature.rename(columns={pre_column:renamed_column})\n",
    "    feature_df_new = feature_df.join(feature_renamed[renamed_column])\n",
    "    return feature_df_new\n",
    "    \n",
    "def iterate_feature_type (df, df_name, feature_df, feature_types= [('norm', 'normed_daily_ave'), \\\n",
    "('cons', 'number_consecutive_day'), ('ave', 'daily_ave'), ('freq', 'count')]):\n",
    "    for activity_name in df:\n",
    "        for metrics, metric_name in feature_types:\n",
    "            try:\n",
    "                feature = df[activity_name][metrics]\n",
    "                new_name = df_name+'_'+ activity_name+'_'+metrics\n",
    "                feature_df = append_feature_df (feature, metric_name, new_name, feature_df)\n",
    "            except:\n",
    "                pass\n",
    "    return feature_df\n",
    "            \n",
    "feature_df_new = iterate_feature_type (b4_activity, 'b4Trial', feature_df)\n",
    "print (feature_df_new.shape)\n",
    "feature_df_new = iterate_feature_type (trial_activity, '7dTrial', feature_df_new)\n",
    "print (feature_df_new.shape)\n",
    "feature_df_new = iterate_feature_type (trial2_activity, '2dTrial', feature_df_new)\n",
    "print (feature_df_new.shape)\n",
    "feature_df_new = iterate_feature_type (b4_duringTrial_activity, 'b4_duringTrial', feature_df_new)\n",
    "print (feature_df_new.shape)"
   ]
  },
  {
   "cell_type": "code",
   "execution_count": 473,
   "metadata": {},
   "outputs": [
    {
     "data": {
      "text/plain": [
       "(1551, 51)"
      ]
     },
     "execution_count": 473,
     "metadata": {},
     "output_type": "execute_result"
    }
   ],
   "source": [
    "feature_df_new = feature_df_new.fillna(0)\n",
    "feature_df_new.shape"
   ]
  },
  {
   "cell_type": "code",
   "execution_count": 435,
   "metadata": {},
   "outputs": [
    {
     "data": {
      "text/plain": [
       "(864,)"
      ]
     },
     "execution_count": 435,
     "metadata": {},
     "output_type": "execute_result"
    }
   ],
   "source": []
  },
  {
   "cell_type": "markdown",
   "metadata": {},
   "source": [
    "## 7. Predictive models for converted/churned trial users"
   ]
  },
  {
   "cell_type": "code",
   "execution_count": 648,
   "metadata": {},
   "outputs": [],
   "source": [
    "# X and y, train and test sets\n",
    "X = feature_df_new.loc[:,feature_df_new.columns!='Converted'][sel_drop]\n",
    "y = feature_df_new['Converted']\n",
    "X = X.astype('int32')\n",
    "X_train, X_test, y_train, y_test = train_test_split(X, y, test_size=0.2, random_state=0) # try shuffle, random state, learning curve (based on the number features), feature selection on precision recall. extra tree (faster than RF - harder to overfit) --> feature selection"
   ]
  },
  {
   "cell_type": "code",
   "execution_count": 598,
   "metadata": {},
   "outputs": [
    {
     "data": {
      "text/plain": [
       "(1551, 26)"
      ]
     },
     "execution_count": 598,
     "metadata": {},
     "output_type": "execute_result"
    }
   ],
   "source": [
    "X.shape"
   ]
  },
  {
   "cell_type": "code",
   "execution_count": 651,
   "metadata": {},
   "outputs": [
    {
     "data": {
      "text/plain": [
       "{'criterion': 'entropy',\n",
       " 'max_depth': 8,\n",
       " 'max_features': 'auto',\n",
       " 'n_estimators': 100}"
      ]
     },
     "execution_count": 651,
     "metadata": {},
     "output_type": "execute_result"
    }
   ],
   "source": [
    "# Grid search for hyperparameters\n",
    "rfc=RandomForestClassifier(random_state=42)\n",
    "param_grid = { \n",
    "    'n_estimators': [100, 500],\n",
    "    'max_features': ['auto', 'sqrt', 'log2'],\n",
    "    'max_depth' : [4,5,6,7,8],\n",
    "    'criterion' :['gini', 'entropy']\n",
    "}\n",
    "CV_rfc = GridSearchCV(estimator=rfc, param_grid=param_grid, cv= 5) #stratified CV, CV k-fold = 10, one for all\n",
    "CV_rfc.fit(X_train, y_train)\n",
    "CV_rfc.best_params_"
   ]
  },
  {
   "cell_type": "code",
   "execution_count": 652,
   "metadata": {
    "scrolled": true
   },
   "outputs": [
    {
     "name": "stdout",
     "output_type": "stream",
     "text": [
      "R^2 Training Score: 0.83 \n",
      "OOB Score: 0.66 \n",
      "R^2 Test Score: 0.68\n"
     ]
    }
   ],
   "source": [
    "# A model with the best performing hyperparameters\n",
    "rf=RandomForestClassifier(random_state=42, max_features='auto', n_estimators= 100, max_depth=8, criterion='entropy', oob_score = True)\n",
    "selector = rf.fit(X_train, y_train)\n",
    "print('R^2 Training Score: {:.2f} \\nOOB Score: {:.2f} \\nR^2 Test Score: {:.2f}'.format(rf.score(X_train, y_train), \n",
    "                                                                                    rf.oob_score_,\n",
    "                                                                                    rf.score(X_test, y_test)))"
   ]
  },
  {
   "cell_type": "code",
   "execution_count": 638,
   "metadata": {},
   "outputs": [
    {
     "data": {
      "text/plain": [
       "\"\\n# recursive feature elimination \\nrfe_dict = {}\\nfor i in range(1,50):\\n    selector = RFE(rf, n_features_to_select=i, step=1)\\n    selector = selector.fit(X_train, y_train)\\n    probs = selector.predict_proba(X_test)\\n    preds = probs[:,1]\\n    fpr, tpr, threshold = metrics.roc_curve(y_test, preds)\\n    roc_auc = metrics.auc(fpr, tpr)\\n    rfe_dict[i] = roc_auc\\nlists = sorted(rfe_dict.items()) # sorted by key, return a list of tuples\\nx, y = zip(*lists) # unpack a list of pairs into two tuples\\nselector = RFE(rf, n_features_to_select=6, step=1)\\nselector = selector.fit(X_train, y_train)\\nselected_features = X.columns[selector.support_]\\n\\nplt.plot(x,y)\\nplt.xlabel('Number of features')\\nplt.ylabel('AUROC')\\nplt.savefig('../results/RFE_AUROC.png', dpi=800, transparent = True)\\n\""
      ]
     },
     "execution_count": 638,
     "metadata": {},
     "output_type": "execute_result"
    }
   ],
   "source": [
    "'''\n",
    "# recursive feature elimination \n",
    "rfe_dict = {}\n",
    "for i in range(1,50):\n",
    "    selector = RFE(rf, n_features_to_select=i, step=1)\n",
    "    selector = selector.fit(X_train, y_train)\n",
    "    probs = selector.predict_proba(X_test)\n",
    "    preds = probs[:,1]\n",
    "    fpr, tpr, threshold = metrics.roc_curve(y_test, preds)\n",
    "    roc_auc = metrics.auc(fpr, tpr)\n",
    "    rfe_dict[i] = roc_auc\n",
    "lists = sorted(rfe_dict.items()) # sorted by key, return a list of tuples\n",
    "x, y = zip(*lists) # unpack a list of pairs into two tuples\n",
    "selector = RFE(rf, n_features_to_select=6, step=1)\n",
    "selector = selector.fit(X_train, y_train)\n",
    "selected_features = X.columns[selector.support_]\n",
    "\n",
    "plt.plot(x,y)\n",
    "plt.xlabel('Number of features')\n",
    "plt.ylabel('AUROC')\n",
    "plt.savefig('../results/RFE_AUROC.png', dpi=800, transparent = True)\n",
    "'''"
   ]
  },
  {
   "cell_type": "code",
   "execution_count": 653,
   "metadata": {},
   "outputs": [
    {
     "name": "stdout",
     "output_type": "stream",
     "text": [
      "F1 scores: 0.6738999291315986\n",
      "Confusion Matrix\n",
      "[[140  25]\n",
      " [ 73  73]]\n"
     ]
    },
    {
     "data": {
      "image/png": "[encoded data removed]",
      "text/plain": [
       "<Figure size 432x288 with 1 Axes>"
      ]
     },
     "metadata": {
      "needs_background": "light"
     },
     "output_type": "display_data"
    }
   ],
   "source": [
    "# AUCs\n",
    "plot_AUC(selector, X_test, y_test)"
   ]
  },
  {
   "cell_type": "code",
   "execution_count": 587,
   "metadata": {},
   "outputs": [
    {
     "data": {
      "image/png": "[encoded data removed]",
      "text/plain": [
       "<Figure size 432x288 with 1 Axes>"
      ]
     },
     "metadata": {
      "needs_background": "light"
     },
     "output_type": "display_data"
    }
   ],
   "source": [
    "# Feature importance\n",
    "perm = PermutationImportance(selector, cv = None, refit = False, n_iter = 50).fit(X_train, y_train)\n",
    "perm_imp_eli5 = imp_df(X_train.columns, perm.feature_importances_)\n",
    "var_imp_plot4(perm_imp_eli5, 'Permutation feature importance (eli5)')\n",
    "\n",
    "base_imp = imp_df(X_train.columns, rf.feature_importances_)\n",
    "var_imp_plot4(base_imp, 'Default feature importance (sklearn)')\n",
    "\n",
    "drop_imp = drop_col_feat_imp(selector, X_train, y_train)\n",
    "def var_imp_plot5(imp_df, title):\n",
    "    imp_df.columns = ['feature', 'feature_importance']\n",
    "    sns.barplot(x = 'feature_importance', y = 'feature', data = imp_df, orient = 'h', color = 'royalblue') \\\n",
    "       .set_title(title, fontsize = 20)\n",
    "    plt.rcParams[\"ytick.labelsize\"] = 2\n",
    "    plt.savefig(f'../results/{title}.png', bbox_inches='tight',dpi=800, transparent = True)\n",
    "var_imp_plot(drop_imp, 'Drop Column feature importance')\n",
    "\n",
    "extra_tree_forest = ExtraTreesClassifier(n_estimators = 5, criterion ='entropy', max_features = 2) \n",
    "extra_tree_forest.fit(X_train, y_train) \n",
    "feature_importance = extra_tree_forest.feature_importances_ \n",
    "# Normalizing the individual importances \n",
    "feature_importance_normalized = np.std([tree.feature_importances_ for tree in extra_tree_forest.estimators_], \n",
    "                                        axis = 0) \n",
    "df_fi = pd.DataFrame(list(zip(X.columns, feature_importance_normalized)), columns=['feature','feature_importance'])\n",
    "df_fi = df_fi.sort_values(by=['feature_importance'], ascending = False)\n",
    "var_imp_plot(df_fi, 'Extra Tree feature importance')"
   ]
  },
  {
   "cell_type": "code",
   "execution_count": 109,
   "metadata": {},
   "outputs": [],
   "source": [
    "# decision path\n",
    "estimator = rf.estimators_[2]\n",
    "plot_decisionPath(estimator, X, class_name = ['Churned', 'Converted'])"
   ]
  },
  {
   "cell_type": "code",
   "execution_count": 544,
   "metadata": {},
   "outputs": [
    {
     "data": {
      "text/plain": [
       "['b4Trial_ActivityComplete_norm',\n",
       " 'b4Trial_LibrarySelectedTab_norm',\n",
       " 'b4Trial_ScreenViewed_norm',\n",
       " 'b4Trial_ActivityComplete_ave',\n",
       " 'b4Trial_SessionCompleted_norm',\n",
       " 'b4Trial_AppForeground_norm']"
      ]
     },
     "execution_count": 544,
     "metadata": {},
     "output_type": "execute_result"
    }
   ],
   "source": [
    "# sel_feature = list(df_fi[df_fi.feature_importance > 0].feature)\n",
    "# del_feature = list(df_fi[df_fi.feature_importance <= 0].feature)\n",
    "# del_feature"
   ]
  },
  {
   "cell_type": "code",
   "execution_count": 647,
   "metadata": {},
   "outputs": [
    {
     "name": "stdout",
     "output_type": "stream",
     "text": [
      "F1 scores: 0.8166812780387619\n",
      "Confusion Matrix\n",
      "[[842  22]\n",
      " [251 436]]\n"
     ]
    },
    {
     "data": {
      "image/png": "[encoded data removed]",
      "text/plain": [
       "<Figure size 432x288 with 1 Axes>"
      ]
     },
     "metadata": {
      "needs_background": "light"
     },
     "output_type": "display_data"
    }
   ],
   "source": [
    "selector = rf.fit(X, y)\n",
    "plot_AUC(selector, X, y)"
   ]
  },
  {
   "cell_type": "code",
   "execution_count": 610,
   "metadata": {},
   "outputs": [
    {
     "name": "stdout",
     "output_type": "stream",
     "text": [
      "F1 scores: 0.7672188317349607\n",
      "Confusion Matrix\n",
      "[[844  20]\n",
      " [247 440]]\n"
     ]
    },
    {
     "data": {
      "image/png": "[encoded data removed]",
      "text/plain": [
       "<Figure size 432x288 with 1 Axes>"
      ]
     },
     "metadata": {
      "needs_background": "light"
     },
     "output_type": "display_data"
    },
    {
     "data": {
      "image/png": "[encoded data removed]",
      "text/plain": [
       "<Figure size 432x288 with 1 Axes>"
      ]
     },
     "metadata": {
      "needs_background": "light"
     },
     "output_type": "display_data"
    }
   ],
   "source": [
    "perm = PermutationImportance(selector, cv = None, refit = False, n_iter = 50).fit(X, y)\n",
    "perm_imp_eli5 = imp_df(X.columns, perm.feature_importances_)\n",
    "var_imp_plot(perm_imp_eli5, 'Permutation feature importance (eli5)')\n",
    "\n",
    "base_imp = imp_df(X.columns, rf.feature_importances_)\n",
    "var_imp_plot(base_imp, 'Default feature importance (sklearn)')\n",
    "\n",
    "drop_imp = drop_col_feat_imp(selector, X, y)\n",
    "var_imp_plot(drop_imp, 'Drop Column feature importance 3')\n",
    "\n",
    "extra_tree_forest = ExtraTreesClassifier(n_estimators = 5, criterion ='entropy', max_features = 2) \n",
    "extra_tree_forest.fit(X, y) \n",
    "feature_importance = extra_tree_forest.feature_importances_ \n",
    "# Normalizing the individual importances \n",
    "feature_importance_normalized = np.std([tree.feature_importances_ for tree in extra_tree_forest.estimators_], \n",
    "                                        axis = 0) \n",
    "df_fi = pd.DataFrame(list(zip(X.columns, feature_importance_normalized)), columns=['feature','feature_importance'])\n",
    "df_fi = df_fi.sort_values(by=['feature_importance'], ascending = False)\n",
    "var_imp_plot(df_fi, 'Extra Tree feature importance')\n",
    "\n",
    "plot_AUC(selector, X, y)"
   ]
  },
  {
   "cell_type": "code",
   "execution_count": 559,
   "metadata": {},
   "outputs": [],
   "source": [
    "sel_extraTree = list(df_fi[df_fi.feature_importance > 0].feature)\n",
    "sel_perm = list(perm_imp_eli5[perm_imp_eli5.feature_importance > 0].feature) \n",
    "sel_drop = list(drop_imp[drop_imp.feature_importance > 0].feature)"
   ]
  },
  {
   "cell_type": "code",
   "execution_count": 616,
   "metadata": {},
   "outputs": [
    {
     "data": {
      "image/png": "[encoded data removed]",
      "text/plain": [
       "<Figure size 432x288 with 1 Axes>"
      ]
     },
     "metadata": {
      "needs_background": "light"
     },
     "output_type": "display_data"
    }
   ],
   "source": [
    "drop_imp = drop_col_feat_imp(selector, X_train, y_train)\n",
    "var_imp_plot6(drop_imp, 'Drop Column feature importance')"
   ]
  },
  {
   "cell_type": "code",
   "execution_count": 628,
   "metadata": {},
   "outputs": [
    {
     "data": {
      "text/plain": [
       "(1551, 26)"
      ]
     },
     "execution_count": 628,
     "metadata": {},
     "output_type": "execute_result"
    }
   ],
   "source": [
    "X.shape"
   ]
  },
  {
   "cell_type": "code",
   "execution_count": 629,
   "metadata": {},
   "outputs": [],
   "source": [
    "X.to_csv('../results/X')\n",
    "y.to_csv('../results/y')"
   ]
  },
  {
   "cell_type": "code",
   "execution_count": null,
   "metadata": {},
   "outputs": [],
   "source": []
  },
  {
   "cell_type": "code",
   "execution_count": 656,
   "metadata": {},
   "outputs": [
    {
     "data": {
      "text/plain": [
       "(165,)"
      ]
     },
     "execution_count": 656,
     "metadata": {},
     "output_type": "execute_result"
    }
   ],
   "source": [
    "y_test[y_test == False].shape"
   ]
  },
  {
   "cell_type": "code",
   "execution_count": null,
   "metadata": {},
   "outputs": [],
   "source": []
  }
 ],
 "metadata": {
  "kernelspec": {
   "display_name": "OngoEnv",
   "language": "python",
   "name": "ongoenv"
  },
  "language_info": {
   "codemirror_mode": {
    "name": "ipython",
    "version": 3
   },
   "file_extension": ".py",
   "mimetype": "text/x-python",
   "name": "python",
   "nbconvert_exporter": "python",
   "pygments_lexer": "ipython3",
   "version": "3.8.2"
  },
  "toc-autonumbering": false,
  "toc-showcode": false,
  "toc-showmarkdowntxt": true,
  "toc-showtags": false
 },
 "nbformat": 4,
 "nbformat_minor": 4
}
