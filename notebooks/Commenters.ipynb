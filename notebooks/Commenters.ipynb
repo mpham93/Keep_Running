{
 "cells": [
  {
   "cell_type": "markdown",
   "metadata": {},
   "source": [
    "### 1. Import package "
   ]
  },
  {
   "cell_type": "code",
   "execution_count": 1,
   "metadata": {},
   "outputs": [
    {
     "name": "stderr",
     "output_type": "stream",
     "text": [
      "/Users/minhpham/Desktop/Ongo/Ongo/OngoEnv/lib/python3.8/site-packages/sklearn/utils/deprecation.py:143: FutureWarning: The sklearn.metrics.scorer module is  deprecated in version 0.22 and will be removed in version 0.24. The corresponding classes / functions should instead be imported from sklearn.metrics. Anything that cannot be imported from sklearn.metrics is now part of the private API.\n",
      "  warnings.warn(message, FutureWarning)\n",
      "/Users/minhpham/Desktop/Ongo/Ongo/OngoEnv/lib/python3.8/site-packages/sklearn/utils/deprecation.py:143: FutureWarning: The sklearn.feature_selection.base module is  deprecated in version 0.22 and will be removed in version 0.24. The corresponding classes / functions should instead be imported from sklearn.feature_selection. Anything that cannot be imported from sklearn.feature_selection is now part of the private API.\n",
      "  warnings.warn(message, FutureWarning)\n"
     ]
    }
   ],
   "source": [
    "import os, sys\n",
    "sys.path.append('../src/')\n",
    "import pandas as pd\n",
    "import numpy as np\n",
    "from numpy import mean, std\n",
    "import matplotlib.pyplot as plt\n",
    "from xgboost.sklearn import XGBClassifier\n",
    "from sklearn import tree\n",
    "from sklearn.tree import DecisionTreeClassifier\n",
    "from sklearn.linear_model import LogisticRegression, Perceptron\n",
    "from sklearn.ensemble import RandomForestClassifier, GradientBoostingClassifier, ExtraTreesClassifier\n",
    "from sklearn.model_selection import train_test_split, GridSearchCV, RandomizedSearchCV\n",
    "from sklearn.feature_selection import RFE, RFECV\n",
    "from sklearn.model_selection import cross_val_score, RepeatedStratifiedKFold\n",
    "from sklearn.pipeline import Pipeline\n",
    "import eli5\n",
    "from eli5.sklearn import PermutationImportance\n",
    "import shap\n",
    "from activityFeature_engineer import *\n",
    "from pred_model import *\n",
    "from AppAct_df import *\n",
    "\n",
    "### ignore the warnings ###"
   ]
  },
  {
   "cell_type": "markdown",
   "metadata": {},
   "source": [
    "### 2. Load data of app activities"
   ]
  },
  {
   "cell_type": "code",
   "execution_count": 2,
   "metadata": {
    "jupyter": {
     "outputs_hidden": true
    }
   },
   "outputs": [
    {
     "name": "stderr",
     "output_type": "stream",
     "text": [
      "elementwise comparison failed; returning scalar instead, but in the future will perform elementwise comparison\n"
     ]
    }
   ],
   "source": [
    "data_dir = '../data/S3/AppEventData/'\n",
    "CommunityMember, SubscriptionHistory, ActivityComplete, SessionCompleted, \\\n",
    "LibrarySelectedTab, ScreenViewed, AppForeground, SessionViewed = process_AppAct_df (data_dir)"
   ]
  },
  {
   "cell_type": "markdown",
   "metadata": {},
   "source": [
    "### 3. Sample trial users"
   ]
  },
  {
   "cell_type": "markdown",
   "metadata": {},
   "source": [
    "##### 3.1 Remove Legacy/Hubspot and Administrator users"
   ]
  },
  {
   "cell_type": "code",
   "execution_count": 3,
   "metadata": {},
   "outputs": [
    {
     "name": "stdout",
     "output_type": "stream",
     "text": [
      "53009 2269\n"
     ]
    }
   ],
   "source": [
    "CommunityMember_filter = CommunityMember[CommunityMember['membershipName'] != 'Legacy']\n",
    "CommunityMember_filter = CommunityMember_filter[CommunityMember_filter['membershipSource'] != 'Administrator']\n",
    "CommunityMember_filter = CommunityMember_filter[CommunityMember_filter['membershipSource'] != 'Hubspot']\n",
    "CommunityMember_filter_id = CommunityMember_filter.user.unique()\n",
    "print (CommunityMember_filter[CommunityMember_filter['membershipSource']=='Unknown'].shape[0], \\\n",
    "       CommunityMember_filter[CommunityMember_filter['membershipSource']!='Unknown'].shape[0])"
   ]
  },
  {
   "cell_type": "markdown",
   "metadata": {},
   "source": [
    "##### 3.2 Select users with purchase and users with free trials"
   ]
  },
  {
   "cell_type": "code",
   "execution_count": 4,
   "metadata": {},
   "outputs": [
    {
     "name": "stdout",
     "output_type": "stream",
     "text": [
      "1559 purchase users, 1629 trial users, 712 intersected\n"
     ]
    }
   ],
   "source": [
    "SubscriptionHistory_purchase = SubscriptionHistory[SubscriptionHistory.event == 'subscription-purchase']\n",
    "SubscriptionHistory_freeTrial = SubscriptionHistory[SubscriptionHistory.event == 'subscription-free-trial']\n",
    "SubscriptionHistory_purchase_id = SubscriptionHistory_purchase.user.unique()\n",
    "SubscriptionHistory_freeTrial_id = SubscriptionHistory_freeTrial.user.unique()\n",
    "print (f'{len(SubscriptionHistory_purchase_id)} purchase users, {len(SubscriptionHistory_freeTrial_id)} trial users, \\\n",
    "{len(set(SubscriptionHistory_purchase_id).intersection(SubscriptionHistory_freeTrial_id))} intersected')"
   ]
  },
  {
   "cell_type": "markdown",
   "metadata": {},
   "source": [
    "##### 3.3 Select users with purchase converted from trial"
   ]
  },
  {
   "cell_type": "code",
   "execution_count": 5,
   "metadata": {},
   "outputs": [
    {
     "name": "stdout",
     "output_type": "stream",
     "text": [
      "917 nonconverted trial users, 707 converted trial users\n"
     ]
    }
   ],
   "source": [
    "convertedFromTrial_id = SubscriptionHistory[SubscriptionHistory.convertedFromTrial == bool('True')].user.unique()\n",
    "nonconverted_trial = set(SubscriptionHistory_freeTrial_id).difference(SubscriptionHistory_purchase_id)\n",
    "converted_trial = set(SubscriptionHistory_freeTrial_id).intersection(SubscriptionHistory_purchase_id).intersection(convertedFromTrial_id)\n",
    "print (f'{len(nonconverted_trial)} nonconverted trial users, {len(converted_trial)} converted trial users')"
   ]
  },
  {
   "cell_type": "markdown",
   "metadata": {},
   "source": [
    "##### 3.4 Select trial users that are not Legacy/Hubspot/Admin"
   ]
  },
  {
   "cell_type": "code",
   "execution_count": 6,
   "metadata": {},
   "outputs": [
    {
     "name": "stdout",
     "output_type": "stream",
     "text": [
      "Filtering the Legacy and Admin users: 864 nonconverted, 698 converted\n"
     ]
    }
   ],
   "source": [
    "nonconverted = nonconverted_trial.intersection(CommunityMember_filter_id)\n",
    "converted = converted_trial.intersection(CommunityMember_filter_id)\n",
    "print (f'Filtering the Legacy and Admin users: {len(nonconverted)} nonconverted, {len(converted)} converted')\n",
    "IDs = list(nonconverted) + list(converted)"
   ]
  },
  {
   "cell_type": "markdown",
   "metadata": {},
   "source": [
    "##### 3.5 Commenters"
   ]
  },
  {
   "cell_type": "code",
   "execution_count": 9,
   "metadata": {},
   "outputs": [
    {
     "name": "stdout",
     "output_type": "stream",
     "text": [
      "Remove 451 comment events before the first date of ios app\n"
     ]
    }
   ],
   "source": [
    "comment_df_all = pd.read_csv('../data/S3/TextData/postgres_Comment.csv', index_col = 0)\n",
    "comment_df_all.createdAt =  pd.to_datetime(comment_df_all.createdAt).dt.normalize()\n",
    "comment_df_filterdate = comment_df_all[comment_df_all.createdAt>='2019-08-04']\n",
    "print (f'Remove {(comment_df_all.shape[0] - comment_df_filterdate.shape[0])} comment events before the first date of ios app')"
   ]
  },
  {
   "cell_type": "code",
   "execution_count": 10,
   "metadata": {},
   "outputs": [
    {
     "name": "stdout",
     "output_type": "stream",
     "text": [
      "63 cases with comment events before the app start date \n",
      "        remove 2465 rows\n"
     ]
    }
   ],
   "source": [
    "case2remove = list(comment_df_all[comment_df_all.createdAt<'2019-08-04'].owner.unique())\n",
    "comment_df = comment_df_filterdate[~comment_df_filterdate.owner.isin(case2remove)]\n",
    "print (f'{len(case2remove)} cases with comment events before the app start date \\n \\\n",
    "       remove {comment_df_filterdate.shape[0] - comment_df.shape[0]} rows')"
   ]
  },
  {
   "cell_type": "code",
   "execution_count": 16,
   "metadata": {},
   "outputs": [
    {
     "name": "stdout",
     "output_type": "stream",
     "text": [
      "720 commenters\n",
      "137 general subscribers with comments\n"
     ]
    },
    {
     "data": {
      "text/html": [
       "<div>\n",
       "<style scoped>\n",
       "    .dataframe tbody tr th:only-of-type {\n",
       "        vertical-align: middle;\n",
       "    }\n",
       "\n",
       "    .dataframe tbody tr th {\n",
       "        vertical-align: top;\n",
       "    }\n",
       "\n",
       "    .dataframe thead tr th {\n",
       "        text-align: left;\n",
       "    }\n",
       "\n",
       "    .dataframe thead tr:last-of-type th {\n",
       "        text-align: right;\n",
       "    }\n",
       "</style>\n",
       "<table border=\"1\" class=\"dataframe\">\n",
       "  <thead>\n",
       "    <tr>\n",
       "      <th></th>\n",
       "      <th>user</th>\n",
       "      <th>createdAt</th>\n",
       "      <th>goal</th>\n",
       "      <th>exp</th>\n",
       "      <th>membershipSource</th>\n",
       "    </tr>\n",
       "    <tr>\n",
       "      <th></th>\n",
       "      <th>count</th>\n",
       "      <th>count</th>\n",
       "      <th>count</th>\n",
       "      <th>count</th>\n",
       "      <th>count</th>\n",
       "    </tr>\n",
       "    <tr>\n",
       "      <th>membershipName</th>\n",
       "      <th></th>\n",
       "      <th></th>\n",
       "      <th></th>\n",
       "      <th></th>\n",
       "      <th></th>\n",
       "    </tr>\n",
       "  </thead>\n",
       "  <tbody>\n",
       "    <tr>\n",
       "      <th>12 Months</th>\n",
       "      <td>97</td>\n",
       "      <td>97</td>\n",
       "      <td>97</td>\n",
       "      <td>97</td>\n",
       "      <td>97</td>\n",
       "    </tr>\n",
       "    <tr>\n",
       "      <th>Legacy</th>\n",
       "      <td>247</td>\n",
       "      <td>247</td>\n",
       "      <td>247</td>\n",
       "      <td>246</td>\n",
       "      <td>247</td>\n",
       "    </tr>\n",
       "    <tr>\n",
       "      <th>Monthly</th>\n",
       "      <td>42</td>\n",
       "      <td>42</td>\n",
       "      <td>42</td>\n",
       "      <td>42</td>\n",
       "      <td>42</td>\n",
       "    </tr>\n",
       "    <tr>\n",
       "      <th>NaN</th>\n",
       "      <td>318</td>\n",
       "      <td>318</td>\n",
       "      <td>317</td>\n",
       "      <td>318</td>\n",
       "      <td>318</td>\n",
       "    </tr>\n",
       "  </tbody>\n",
       "</table>\n",
       "</div>"
      ],
      "text/plain": [
       "                user createdAt  goal   exp membershipSource\n",
       "               count     count count count            count\n",
       "membershipName                                             \n",
       "12 Months         97        97    97    97               97\n",
       "Legacy           247       247   247   246              247\n",
       "Monthly           42        42    42    42               42\n",
       "NaN              318       318   317   318              318"
      ]
     },
     "execution_count": 16,
     "metadata": {},
     "output_type": "execute_result"
    }
   ],
   "source": [
    "owner = comment_df.owner.unique()\n",
    "print (f'{len(owner)} commenters')\n",
    "print (f'{len(set(SubscriptionHistory_purchase_id).intersection(owner))} general subscribers with comments')\n",
    "CommunityMember[CommunityMember.user.isin(owner)].groupby(['membershipName'], dropna = False).agg(['count'])"
   ]
  },
  {
   "cell_type": "markdown",
   "metadata": {},
   "source": [
    "## 4. EDA"
   ]
  },
  {
   "cell_type": "markdown",
   "metadata": {},
   "source": [
    "##### 4.1 Comment frequency by membership categories"
   ]
  },
  {
   "cell_type": "code",
   "execution_count": 22,
   "metadata": {},
   "outputs": [
    {
     "name": "stdout",
     "output_type": "stream",
     "text": [
      "                createdAt                       \n",
      "                     mean median min   max count\n",
      "membershipName                                  \n",
      "12 Months        6.082474      2   1   126    97\n",
      "Legacy          16.125506      2   1  1453   247\n",
      "Monthly         14.142857      2   1   242    42\n",
      "Non-sub          2.795597      1   1   155   318\n",
      "X axis is the comment freq; y is the number of users with the given freq\n"
     ]
    },
    {
     "data": {
      "image/png": "[encoded data removed]",
      "text/plain": [
       "<Figure size 432x288 with 4 Axes>"
      ]
     },
     "metadata": {
      "needs_background": "light"
     },
     "output_type": "display_data"
    }
   ],
   "source": [
    "CommentFreq = comment_df.groupby(['owner']).agg('count')\n",
    "CommunityMember_comment = CommunityMember[CommunityMember.user.isin(owner)]\n",
    "CommentFreq_member = (CommunityMember_comment[['user','membershipName']].\n",
    "                      set_index('user')).join(CommentFreq.drop(['_id', 'text'], axis = 1))\n",
    "CommentFreq_member.membershipName = CommentFreq_member.membershipName.fillna('Non-sub')\n",
    "print (CommentFreq_member.groupby(['membershipName']).agg(['mean', 'median', 'min', 'max', 'count']))\n",
    "CommentFreq_member['createdAt'].hist(by=CommentFreq_member['membershipName'])\n",
    "print ('X axis is the comment freq; y is the number of users with the given freq')"
   ]
  },
  {
   "cell_type": "markdown",
   "metadata": {},
   "source": [
    "###### 4.2 How long does it takes from the first comment to become a premium user?"
   ]
  },
  {
   "cell_type": "code",
   "execution_count": 39,
   "metadata": {},
   "outputs": [],
   "source": [
    "# get the first date of commenting\n",
    "sub_commenter_id = list(CommentFreq_member[CommentFreq_member.membershipName.isin(['12 Months', 'Monthly'])].index)\n",
    "subComment_df = pd.DataFrame(columns=['owner', 'createdAt'])\n",
    "for i in sub_commenter_id:\n",
    "    selected_row = comment_df[comment_df['owner'] == i][['owner', 'createdAt']].sort_values(by=['createdAt']).iloc[0,:]\n",
    "    subComment_df = subComment_df.append(selected_row)\n",
    "subComment_df = subComment_df.rename(columns = {'owner': 'user', 'createdAt': 'eventDate'})"
   ]
  },
  {
   "cell_type": "code",
   "execution_count": 41,
   "metadata": {},
   "outputs": [],
   "source": [
    "# get the first date of becoming a premium user\n",
    "subDate_df = pd.DataFrame(columns = ['user', 'event', 'eventDate'])\n",
    "for i in sub_commenter_id:\n",
    "    try:\n",
    "        sub_start = SubscriptionHistory[(SubscriptionHistory['user'] == i)& \\\n",
    "                    (SubscriptionHistory['event'].isin(['subscription-free-trial', 'subscription-purchase']))]. \\\n",
    "                    sort_values(by=['eventDate']).iloc[0,:][['user', 'event', 'eventDate']]\n",
    "    except:\n",
    "        pass\n",
    "    subDate_df = subDate_df.append(sub_start)"
   ]
  },
  {
   "cell_type": "code",
   "execution_count": 43,
   "metadata": {},
   "outputs": [],
   "source": [
    "substract = subDate_df.set_index('user').drop(columns=['event']). \\\n",
    "subtract(subComment_df.set_index('user'), fill_value=0)"
   ]
  },
  {
   "cell_type": "code",
   "execution_count": 44,
   "metadata": {},
   "outputs": [
    {
     "data": {
      "text/html": [
       "<div>\n",
       "<style scoped>\n",
       "    .dataframe tbody tr th:only-of-type {\n",
       "        vertical-align: middle;\n",
       "    }\n",
       "\n",
       "    .dataframe tbody tr th {\n",
       "        vertical-align: top;\n",
       "    }\n",
       "\n",
       "    .dataframe thead th {\n",
       "        text-align: right;\n",
       "    }\n",
       "</style>\n",
       "<table border=\"1\" class=\"dataframe\">\n",
       "  <thead>\n",
       "    <tr style=\"text-align: right;\">\n",
       "      <th></th>\n",
       "      <th>eventDate</th>\n",
       "    </tr>\n",
       "    <tr>\n",
       "      <th>user</th>\n",
       "      <th></th>\n",
       "    </tr>\n",
       "  </thead>\n",
       "  <tbody>\n",
       "    <tr>\n",
       "      <th>00ad2cdc-e7a6-4ecd-ba9b-331724b5280d</th>\n",
       "      <td>5 days</td>\n",
       "    </tr>\n",
       "    <tr>\n",
       "      <th>02366548-8603-4372-9603-38ee7138b57b</th>\n",
       "      <td>-17 days</td>\n",
       "    </tr>\n",
       "    <tr>\n",
       "      <th>0270e956-675d-442c-ac9e-4af28983553e</th>\n",
       "      <td>-21 days</td>\n",
       "    </tr>\n",
       "    <tr>\n",
       "      <th>04449a75-dfd3-471d-b188-8e1118447f67</th>\n",
       "      <td>0 days</td>\n",
       "    </tr>\n",
       "    <tr>\n",
       "      <th>074009a6-dd17-4e38-b0dc-2e315f937729</th>\n",
       "      <td>-204 days</td>\n",
       "    </tr>\n",
       "    <tr>\n",
       "      <th>...</th>\n",
       "      <td>...</td>\n",
       "    </tr>\n",
       "    <tr>\n",
       "      <th>f9946d46-0b26-444c-bf9f-d6322c0c0ce7</th>\n",
       "      <td>32 days</td>\n",
       "    </tr>\n",
       "    <tr>\n",
       "      <th>fc498b17-2424-4693-8499-d1f946b6b0e0</th>\n",
       "      <td>-323 days</td>\n",
       "    </tr>\n",
       "    <tr>\n",
       "      <th>fca7c2c1-77ae-42c5-8388-7b574fdfab18</th>\n",
       "      <td>-9 days</td>\n",
       "    </tr>\n",
       "    <tr>\n",
       "      <th>fe21eda8-4e46-447a-917c-cbb68c89d9df</th>\n",
       "      <td>3 days</td>\n",
       "    </tr>\n",
       "    <tr>\n",
       "      <th>fe66fdca-916c-4b00-8157-e7cda1255322</th>\n",
       "      <td>138 days</td>\n",
       "    </tr>\n",
       "  </tbody>\n",
       "</table>\n",
       "<p>144 rows × 1 columns</p>\n",
       "</div>"
      ],
      "text/plain": [
       "                                     eventDate\n",
       "user                                          \n",
       "00ad2cdc-e7a6-4ecd-ba9b-331724b5280d    5 days\n",
       "02366548-8603-4372-9603-38ee7138b57b  -17 days\n",
       "0270e956-675d-442c-ac9e-4af28983553e  -21 days\n",
       "04449a75-dfd3-471d-b188-8e1118447f67    0 days\n",
       "074009a6-dd17-4e38-b0dc-2e315f937729 -204 days\n",
       "...                                        ...\n",
       "f9946d46-0b26-444c-bf9f-d6322c0c0ce7   32 days\n",
       "fc498b17-2424-4693-8499-d1f946b6b0e0 -323 days\n",
       "fca7c2c1-77ae-42c5-8388-7b574fdfab18   -9 days\n",
       "fe21eda8-4e46-447a-917c-cbb68c89d9df    3 days\n",
       "fe66fdca-916c-4b00-8157-e7cda1255322  138 days\n",
       "\n",
       "[144 rows x 1 columns]"
      ]
     },
     "execution_count": 44,
     "metadata": {},
     "output_type": "execute_result"
    }
   ],
   "source": [
    "substract"
   ]
  },
  {
   "cell_type": "markdown",
   "metadata": {},
   "source": [
    "### 4. EAD: How many days before trials?"
   ]
  },
  {
   "cell_type": "code",
   "execution_count": null,
   "metadata": {
    "scrolled": true
   },
   "outputs": [],
   "source": [
    "b4Trial_dict = {}\n",
    "for ID in IDs:\n",
    "    trial_start = pd.to_datetime(SubscriptionHistory[(SubscriptionHistory['user']==ID)&(SubscriptionHistory['event']=='subscription-free-trial')]['eventDate'].values)\n",
    "    create_date = pd.to_datetime(CommunityMember[(CommunityMember['user']==ID)]['createdAt'].values)\n",
    "    b4Trial_dict[ID] = (trial_start-create_date).days.values[0]\n",
    "    \n",
    "b4Trial_df = pd.DataFrame(list(b4Trial_dict.items()), columns = ['user', 'days_create2Trial']).set_index(['user'])\n",
    "b4Trial_df['Converted'] = bool(True)\n",
    "b4Trial_df.loc[list(nonconverted), 'Converted'] =  bool(False)\n",
    "\n",
    "# print ('Trial users whose subscribe before creation date')\n",
    "# print (b4Trial_df[b4Trial_df.days_create2Trial < 0])\n",
    "\n",
    "b4Trial_filter = b4Trial_df[(b4Trial_df.days_create2Trial > 0)]\n",
    "print ('Users that created an account before trial')\n",
    "print (b4Trial_filter.groupby(['Converted']).agg(['count']), '\\n')\n",
    "\n",
    "print ('The number of days before trial of these users \\n X-axis = number of days before trials \\n y-axis = freq')\n",
    "print (b4Trial_filter.days_create2Trial.hist(by=b4Trial_filter.Converted))"
   ]
  },
  {
   "cell_type": "markdown",
   "metadata": {},
   "source": [
    "## 5. Feature engineering"
   ]
  },
  {
   "cell_type": "code",
   "execution_count": null,
   "metadata": {},
   "outputs": [],
   "source": [
    "# During trial: freq, cons\n",
    "DFs = ActivityComplete, SessionCompleted, LibrarySelectedTab, ScreenViewed, AppForeground, SessionViewed\n",
    "trial_activity = feature_duration(DFs, IDs, SubscriptionHistory)"
   ]
  },
  {
   "cell_type": "code",
   "execution_count": null,
   "metadata": {},
   "outputs": [],
   "source": [
    "# During first 2 days of trial: freq\n",
    "DFs = trial_activity['ActivityComplete']['filter'], trial_activity['SessionCompleted']['filter'], \\\n",
    "trial_activity['LibrarySelectedTab']['filter'], trial_activity['ScreenViewed']['filter'], \\\n",
    "trial_activity['AppForeground']['filter'], trial_activity['SessionViewed']['filter']\n",
    "trial2_activity = feature_duration(DFs, IDs, SubscriptionHistory, duration = 3, consecutive = False)"
   ]
  },
  {
   "cell_type": "code",
   "execution_count": null,
   "metadata": {},
   "outputs": [],
   "source": [
    "# Before trial: freq, daily ave, norm\n",
    "DFs = ActivityComplete, SessionCompleted, LibrarySelectedTab, ScreenViewed, AppForeground, SessionViewed\n",
    "b4_activity = feature_duration(DFs, IDs, SubscriptionHistory, add = False, consecutive = False, cal_ave = True, dayDF = b4Trial_filter)"
   ]
  },
  {
   "cell_type": "code",
   "execution_count": null,
   "metadata": {},
   "outputs": [],
   "source": [
    "# 7 days before and 7 days during trial: cons\n",
    "DFs = pd.concat([trial_activity['ActivityComplete']['filter'], b4_activity['ActivityComplete']['filter']]), \\\n",
    "pd.concat([trial_activity['SessionCompleted']['filter'], b4_activity['SessionCompleted']['filter']]), \\\n",
    "pd.concat([trial_activity['LibrarySelectedTab']['filter'], b4_activity['LibrarySelectedTab']['filter']]), \\\n",
    "pd.concat([trial_activity['ScreenViewed']['filter'], b4_activity['ScreenViewed']['filter']]), \\\n",
    "pd.concat([trial_activity['AppForeground']['filter'], b4_activity['AppForeground']['filter']]), \\\n",
    "pd.concat([trial_activity['SessionViewed']['filter'], b4_activity['SessionViewed']['filter']])\n",
    "\n",
    "b4_duringTrial_activity = feature_duration(DFs, IDs, SubscriptionHistory, filter = False, freq = False)"
   ]
  },
  {
   "cell_type": "markdown",
   "metadata": {},
   "source": [
    "## 6. Feature dataframe\n",
    "Column 'Converted': True = converted, False = nonconverted "
   ]
  },
  {
   "cell_type": "code",
   "execution_count": null,
   "metadata": {},
   "outputs": [],
   "source": [
    "# Converted/Churned Trial Users - Select users that do not have ambiguous days before trial\n",
    "feature_df = b4Trial_df[(b4Trial_df.days_create2Trial >= 0)]"
   ]
  },
  {
   "cell_type": "code",
   "execution_count": null,
   "metadata": {},
   "outputs": [],
   "source": [
    "# Features: Goal & Experience\n",
    "CommunityMember_join = CommunityMember[['user','goal', 'exp']].set_index('user')\n",
    "feature_df = feature_df.join(CommunityMember_join)\n",
    "feature_df = feature_df[feature_df.goal.notnull()]\n",
    "feature_df = feature_df[feature_df.exp.notnull()]\n",
    "# one hot encoding\n",
    "feature_df = pd.concat([feature_df,pd.get_dummies(feature_df['goal'], prefix='goal')],axis=1)\n",
    "feature_df.drop(['goal'],axis=1, inplace=True)\n",
    "feature_df = pd.concat([feature_df,pd.get_dummies(feature_df['exp'], prefix='exp')],axis=1)\n",
    "feature_df.drop(['exp'],axis=1, inplace=True)"
   ]
  },
  {
   "cell_type": "code",
   "execution_count": null,
   "metadata": {},
   "outputs": [],
   "source": [
    "# Append app activity features\n",
    "def append_feature_df (feature, pre_column, renamed_column, feature_df):\n",
    "    feature_renamed = feature.rename(columns={pre_column:renamed_column})\n",
    "    feature_df_new = feature_df.join(feature_renamed[renamed_column])\n",
    "    return feature_df_new\n",
    "    \n",
    "def iterate_feature_type (df, df_name, feature_df, feature_types= [('norm', 'normed_daily_ave'), \\\n",
    "('cons', 'number_consecutive_day'), ('ave', 'daily_ave'), ('freq', 'count')]):\n",
    "    for activity_name in df:\n",
    "        for metrics, metric_name in feature_types:\n",
    "            try:\n",
    "                feature = df[activity_name][metrics]\n",
    "                new_name = df_name+'_'+ activity_name+'_'+metrics\n",
    "                feature_df = append_feature_df (feature, metric_name, new_name, feature_df)\n",
    "            except:\n",
    "                pass\n",
    "    return feature_df\n",
    "            \n",
    "feature_df_new = iterate_feature_type (b4_activity, 'b4Trial', feature_df)\n",
    "feature_df_new = iterate_feature_type (trial_activity, '7dTrial', feature_df_new)\n",
    "feature_df_new = iterate_feature_type (trial2_activity, '2dTrial', feature_df_new)\n",
    "feature_df_new = iterate_feature_type (b4_duringTrial_activity, 'b4_duringTrial', feature_df_new)\n",
    "\n",
    "feature_df_new = feature_df_new.fillna(0)\n",
    "feature_df_new.shape"
   ]
  },
  {
   "cell_type": "markdown",
   "metadata": {},
   "source": [
    "## 7. Model selection and tuning"
   ]
  },
  {
   "cell_type": "code",
   "execution_count": null,
   "metadata": {},
   "outputs": [],
   "source": [
    "# define datasets\n",
    "try:\n",
    "    X= pd.read_csv('../results/X', index_col='user')\n",
    "    y = pd.read_csv('../results/y', index_col='user')['Converted']\n",
    "    print ('load the precomputed X and y')\n",
    "except:\n",
    "    X = feature_df_new.loc[:,feature_df_new.columns!='Converted']\n",
    "    y = feature_df_new['Converted']\n",
    "    X = X.astype('int32')\n",
    "X_train, X_test, y_train, y_test = train_test_split(X, y, test_size=0.2, random_state=0)"
   ]
  },
  {
   "cell_type": "markdown",
   "metadata": {},
   "source": [
    "##### 5-fold cross validation, accompanied with Recursive Feature Elimination "
   ]
  },
  {
   "cell_type": "code",
   "execution_count": null,
   "metadata": {},
   "outputs": [],
   "source": [
    "def get_models():\n",
    "\tmodels = dict()\n",
    "    # decision tree\n",
    "\trfe = RFECV(estimator=DecisionTreeClassifier())\n",
    "\tmodel = DecisionTreeClassifier()\n",
    "\tmodels['Decision Tree'] = Pipeline(steps=[('s',rfe),('m',model)])\n",
    "    # lr\n",
    "\trfe = RFECV(estimator=LogisticRegression())\n",
    "\tmodel = LogisticRegression()\n",
    "\tmodels['Logistic Regression'] = Pipeline(steps=[('s',rfe),('m',model)])\n",
    "\t# rf\n",
    "\trfe = RFECV(estimator=RandomForestClassifier())\n",
    "\tmodel = RandomForestClassifier()\n",
    "\tmodels['Random Forest'] = Pipeline(steps=[('s',rfe),('m',model)])\n",
    "    # XGB\n",
    "\trfe = RFECV(estimator=XGBClassifier())\n",
    "\tmodel = XGBClassifier()\n",
    "\tmodels['XG Boost'] = Pipeline(steps=[('s',rfe),('m',model)])\n",
    "\treturn models\n",
    "\n",
    "# evaluate a give model using cross-validation\n",
    "def evaluate_model(model, X, y):\n",
    "\tcv = RepeatedStratifiedKFold(n_splits=5, n_repeats=3, random_state=1)\n",
    "\tscores = cross_val_score(model, X, y, scoring='accuracy', cv=cv, n_jobs=-1)\n",
    "\treturn scores\n",
    "\n",
    "# get the models to evaluate\n",
    "models = get_models()\n",
    "\n",
    "# evaluate the models and store results\n",
    "results, names = list(), list()\n",
    "for name, model in models.items():\n",
    "\tscores = evaluate_model(model, X_train, y_train)\n",
    "\tresults.append(scores)\n",
    "\tnames.append(name)\n",
    "\tprint('>%s %.3f (%.3f)' % (name, mean(scores), std(scores)))\n",
    "\n",
    "# plot model performance for comparison\n",
    "plt.boxplot(results[1:4], labels=names[1:4], showmeans=True)\n",
    "plt.ylabel('Accuracy', fontsize = 10)\n",
    "plt.xticks(fontsize = 10)\n",
    "plt.savefig('../results/RFECV_models.png', dpi = 400, transparent = True)\n",
    "plt.show()"
   ]
  },
  {
   "cell_type": "markdown",
   "metadata": {},
   "source": [
    "##### Grid search for hyperparameters"
   ]
  },
  {
   "cell_type": "code",
   "execution_count": null,
   "metadata": {},
   "outputs": [],
   "source": [
    "# baseline model without Recursive feature elimination\n",
    "rfc=RandomForestClassifier(random_state=42)\n",
    "param_grid = {'n_estimators': [100, 500],\n",
    "              'max_features': ['auto', 'sqrt', 'log2'],\n",
    "              'max_depth' : [4,5,6,7,8],\n",
    "              'criterion' :['gini', 'entropy']}\n",
    "baseline_rfc = GridSearchCV(estimator=rfc, param_grid=param_grid, cv= 5)\n",
    "baseline_rfc.fit(X_train, y_train)\n",
    "y_pred_baseline = baseline_rfc.predict(X_test)\n",
    "print ('best parameter: ', baseline_rfc.best_params_)\n",
    "plot_AUC(baseline_rfc, X_test, y_test)"
   ]
  },
  {
   "cell_type": "code",
   "execution_count": null,
   "metadata": {},
   "outputs": [],
   "source": [
    "# Grid search for hyperparameters\n",
    "# Random forest with Recursive feature elimination\n",
    "rfcv = RFECV(estimator=RandomForestClassifier(random_state = 0))\n",
    "rfcv.fit(X_train, y_train)\n",
    "rf_feature = X_train.columns[rfcv.support_]\n",
    "rfc=RandomForestClassifier(random_state=42)\n",
    "param_grid = {'n_estimators': [100, 500],\n",
    "              'max_features': ['auto', 'sqrt', 'log2'],\n",
    "              'max_depth' : [4,5,6,7,8],\n",
    "              'criterion' :['gini', 'entropy']}\n",
    "CV_rfc = GridSearchCV(estimator=rfc, param_grid=param_grid, cv= 5)\n",
    "CV_rfc.fit(X_train[rf_feature], y_train)\n",
    "y_pred_rf = CV_rfc.predict(X_test[rf_feature])\n",
    "print ('best parameter: ', CV_rfc.best_params_)\n",
    "print (len(rf_feature), 'selected features')\n",
    "plot_AUC(CV_rfc, X_test[rf_feature], y_test)"
   ]
  },
  {
   "cell_type": "markdown",
   "metadata": {},
   "source": [
    "## 8. Interpreting the model"
   ]
  },
  {
   "cell_type": "code",
   "execution_count": null,
   "metadata": {},
   "outputs": [],
   "source": [
    "rf=RandomForestClassifier(random_state=42, max_features='log2', n_estimators= 100, max_depth=8, criterion='gini', oob_score = True)\n",
    "selector = rf.fit(X_train[rf_feature], y_train)"
   ]
  },
  {
   "cell_type": "code",
   "execution_count": null,
   "metadata": {},
   "outputs": [],
   "source": [
    "perm = PermutationImportance(rf, random_state=1).fit(X_test[rf_feature], y_test)\n",
    "perm_imp_eli5 = imp_df(list(rf_feature), perm.feature_importances_)\n",
    "var_imp_plot(perm_imp_eli5, 'Permutation feature importance', y_sz=1)\n",
    "eli5.show_weights(perm, feature_names = list(rf_feature))"
   ]
  },
  {
   "cell_type": "code",
   "execution_count": null,
   "metadata": {},
   "outputs": [],
   "source": [
    "var_imp_plot(perm_imp_eli5.head(20), 'Permutation feature importance_top20', y_sz=8)"
   ]
  },
  {
   "cell_type": "code",
   "execution_count": null,
   "metadata": {},
   "outputs": [],
   "source": [
    "shap.initjs()\n",
    "explainer = shap.TreeExplainer(selector)\n",
    "shap_values = explainer.shap_values(X_test[rf_feature])\n",
    "f = plt.figure()\n",
    "shap.summary_plot(shap_values[1], X_test[rf_feature])\n",
    "f.savefig('../results/shap.png', bbox_inches='tight', dpi=600)"
   ]
  },
  {
   "cell_type": "code",
   "execution_count": null,
   "metadata": {},
   "outputs": [],
   "source": [
    "shap.dependence_plot('b4Trial_ScreenViewed_freq', shap_values[1], X_test[rf_feature], interaction_index=\"7dTrial_SessionViewed_freq\")"
   ]
  },
  {
   "cell_type": "code",
   "execution_count": null,
   "metadata": {},
   "outputs": [],
   "source": [
    "shap.force_plot(explainer.expected_value[1], shap_values[1], X_test[rf_feature])"
   ]
  },
  {
   "cell_type": "code",
   "execution_count": null,
   "metadata": {},
   "outputs": [],
   "source": [
    "### to save the plot by matplotlib, uncomment the following statements ###\n",
    "# plt.clf()\n",
    "# shap.initjs()\n",
    "instance_to_explain = 258\n",
    "shap.force_plot(explainer.expected_value[1], shap_values[1][instance_to_explain], \n",
    "                X_test[rf_feature].iloc[instance_to_explain])#, matplotlib=True,show=False)\n",
    "# plt.savefig('../results/shap_eg1.png', dpi=600, transparent = True)"
   ]
  },
  {
   "cell_type": "code",
   "execution_count": null,
   "metadata": {},
   "outputs": [],
   "source": [
    "'''\n",
    "# save datafranes\n",
    "X.to_csv('../results/X')\n",
    "y.to_csv('../results/y')\n",
    "'''"
   ]
  },
  {
   "cell_type": "markdown",
   "metadata": {},
   "source": [
    "## 7. Predictive models for converted/churned trial users"
   ]
  },
  {
   "cell_type": "code",
   "execution_count": null,
   "metadata": {},
   "outputs": [],
   "source": [
    "# X and y, train and test sets\n",
    "X = feature_df_new.loc[:,feature_df_new.columns!='Converted'][sel_drop]\n",
    "y = feature_df_new['Converted']\n",
    "X = X.astype('int32')\n",
    "X_train, X_test, y_train, y_test = train_test_split(X, y, test_size=0.2, random_state=0)"
   ]
  },
  {
   "cell_type": "code",
   "execution_count": null,
   "metadata": {},
   "outputs": [],
   "source": [
    "# Grid search for hyperparameters\n",
    "rfc=RandomForestClassifier(random_state=42)\n",
    "param_grid = { \n",
    "    'n_estimators': [100, 500],\n",
    "    'max_features': ['auto', 'sqrt', 'log2'],\n",
    "    'max_depth' : [4,5,6,7,8],\n",
    "    'criterion' :['gini', 'entropy']\n",
    "}\n",
    "CV_rfc = GridSearchCV(estimator=rfc, param_grid=param_grid, cv= 5) #stratified CV, CV k-fold = 10, one for all\n",
    "CV_rfc.fit(X_train, y_train)\n",
    "CV_rfc.best_params_"
   ]
  },
  {
   "cell_type": "code",
   "execution_count": null,
   "metadata": {},
   "outputs": [],
   "source": [
    "# A model with the best performing hyperparameters\n",
    "rf=RandomForestClassifier(random_state=42, max_features='auto', n_estimators= 100, max_depth=8, criterion='entropy', oob_score = True)\n",
    "selector = rf.fit(X_train, y_train)\n",
    "print('R^2 Training Score: {:.2f} \\nOOB Score: {:.2f} \\nR^2 Test Score: {:.2f}'.format(rf.score(X_train, y_train), \n",
    "                                                                                    rf.oob_score_,\n",
    "                                                                                    rf.score(X_test, y_test)))\n",
    "\n",
    "# AUCs\n",
    "plot_AUC(selector, X_test, y_test)"
   ]
  },
  {
   "cell_type": "code",
   "execution_count": null,
   "metadata": {},
   "outputs": [],
   "source": [
    "# Feature importance\n",
    "perm = PermutationImportance(selector, cv = None, refit = False, n_iter = 50).fit(X_train, y_train)\n",
    "perm_imp_eli5 = imp_df(X_train.columns, perm.feature_importances_)\n",
    "var_imp_plot4(perm_imp_eli5, 'Permutation feature importance (eli5)')\n",
    "\n",
    "base_imp = imp_df(X_train.columns, rf.feature_importances_)\n",
    "var_imp_plot4(base_imp, 'Default feature importance (sklearn)')\n",
    "\n",
    "drop_imp = drop_col_feat_imp(selector, X_train, y_train)\n",
    "var_imp_plot(drop_imp, 'Drop Column feature importance')\n",
    "\n",
    "extra_tree_forest = ExtraTreesClassifier(n_estimators = 5, criterion ='entropy', max_features = 2) \n",
    "extra_tree_forest.fit(X_train, y_train) \n",
    "feature_importance = extra_tree_forest.feature_importances_ \n",
    "feature_importance_normalized = np.std([tree.feature_importances_ for tree in extra_tree_forest.estimators_], axis = 0) \n",
    "df_fi = pd.DataFrame(list(zip(X.columns, feature_importance_normalized)), columns=['feature','feature_importance'])\n",
    "df_fi = df_fi.sort_values(by=['feature_importance'], ascending = False)\n",
    "var_imp_plot(df_fi, 'Extra Tree feature importance')"
   ]
  },
  {
   "cell_type": "code",
   "execution_count": null,
   "metadata": {},
   "outputs": [],
   "source": [
    "# retrain the model on the whole dataset\n",
    "selector = rf.fit(X, y)\n",
    "plot_AUC(selector, X, y)\n",
    "\n",
    "perm = PermutationImportance(selector, cv = None, refit = False, n_iter = 50).fit(X, y)\n",
    "perm_imp_eli5 = imp_df(X.columns, perm.feature_importances_)\n",
    "var_imp_plot(perm_imp_eli5, 'Permutation feature importance (eli5)')\n",
    "\n",
    "base_imp = imp_df(X.columns, rf.feature_importances_)\n",
    "var_imp_plot(base_imp, 'Default feature importance (sklearn)')\n",
    "\n",
    "drop_imp = drop_col_feat_imp(selector, X, y)\n",
    "var_imp_plot(drop_imp, 'Drop Column feature importance 3')\n",
    "\n",
    "extra_tree_forest = ExtraTreesClassifier(n_estimators = 5, criterion ='entropy', max_features = 2) \n",
    "extra_tree_forest.fit(X, y) \n",
    "feature_importance = extra_tree_forest.feature_importances_ \n",
    "feature_importance_normalized = np.std([tree.feature_importances_ for tree in extra_tree_forest.estimators_], axis = 0) \n",
    "df_fi = pd.DataFrame(list(zip(X.columns, feature_importance_normalized)), columns=['feature','feature_importance'])\n",
    "df_fi = df_fi.sort_values(by=['feature_importance'], ascending = False)\n",
    "var_imp_plot(df_fi, 'Extra Tree feature importance')"
   ]
  },
  {
   "cell_type": "code",
   "execution_count": null,
   "metadata": {},
   "outputs": [],
   "source": [
    "'''\n",
    "# decision path\n",
    "estimator = rf.estimators_[2]\n",
    "plot_decisionPath(estimator, X, class_name = ['Churned', 'Converted'])\n",
    "'''"
   ]
  },
  {
   "cell_type": "code",
   "execution_count": null,
   "metadata": {},
   "outputs": [],
   "source": [
    "'''\n",
    "# select what features to keep based on feature importance\n",
    "sel_extraTree = list(df_fi[df_fi.feature_importance > 0].feature)\n",
    "sel_perm = list(perm_imp_eli5[perm_imp_eli5.feature_importance > 0].feature) \n",
    "sel_drop = list(drop_imp[drop_imp.feature_importance > 0].feature)\n",
    "'''"
   ]
  },
  {
   "cell_type": "code",
   "execution_count": null,
   "metadata": {},
   "outputs": [],
   "source": [
    "'''\n",
    "# recursive feature elimination \n",
    "rfe_dict = {}\n",
    "for i in range(1,50):\n",
    "    selector = RFE(rf, n_features_to_select=i, step=1)\n",
    "    selector = selector.fit(X_train, y_train)\n",
    "    probs = selector.predict_proba(X_test)\n",
    "    preds = probs[:,1]\n",
    "    fpr, tpr, threshold = metrics.roc_curve(y_test, preds)\n",
    "    roc_auc = metrics.auc(fpr, tpr)\n",
    "    rfe_dict[i] = roc_auc\n",
    "lists = sorted(rfe_dict.items()) # sorted by key, return a list of tuples\n",
    "x, y = zip(*lists) # unpack a list of pairs into two tuples\n",
    "selector = RFE(rf, n_features_to_select=6, step=1)\n",
    "selector = selector.fit(X_train, y_train)\n",
    "selected_features = X.columns[selector.support_]\n",
    "\n",
    "plt.plot(x,y)\n",
    "plt.xlabel('Number of features')\n",
    "plt.ylabel('AUROC')\n",
    "plt.savefig('../results/RFE_AUROC.png', dpi=800, transparent = True)\n",
    "'''"
   ]
  },
  {
   "cell_type": "code",
   "execution_count": null,
   "metadata": {},
   "outputs": [],
   "source": [
    "'''\n",
    "# save datafranes\n",
    "drop_imp.to_csv('../results/drop_imp_whole')\n",
    "X.to_csv('../results/X')\n",
    "y.to_csv('../results/y')\n",
    "feature_df_new.to_csv('../results/feature_df_new')\n",
    "'''"
   ]
  },
  {
   "cell_type": "markdown",
   "metadata": {},
   "source": [
    "## 8. Model comparisons"
   ]
  },
  {
   "cell_type": "code",
   "execution_count": null,
   "metadata": {},
   "outputs": [],
   "source": [
    "# X and y, train and test sets\n",
    "X = feature_df_new.loc[:,feature_df_new.columns!='Converted'][sel_drop]\n",
    "y = feature_df_new['Converted']\n",
    "X = X.astype('int32')\n",
    "X_train, X_test, y_train, y_test = train_test_split(X, y, test_size=0.2, random_state=0)"
   ]
  },
  {
   "cell_type": "code",
   "execution_count": null,
   "metadata": {},
   "outputs": [],
   "source": [
    "# Grid search for hyperparameters\n",
    "# Random forest\n",
    "rfc=RandomForestClassifier(random_state=42)\n",
    "param_grid = {'n_estimators': [100, 500],\n",
    "              'max_features': ['auto', 'sqrt', 'log2'],\n",
    "              'max_depth' : [4,5,6,7,8],\n",
    "              'criterion' :['gini', 'entropy']}\n",
    "CV_rfc = GridSearchCV(estimator=rfc, param_grid=param_grid, cv= 5)\n",
    "CV_rfc.fit(X_train, y_train)\n",
    "y_pred_rf = CV_rfc.predict(X_test)\n",
    "\n",
    "# Logistic regression\n",
    "clf = LogisticRegression(max_iter=10000)\n",
    "grid_values = {'penalty': ['l1', 'l2'],'C':[0.001,.009,0.01,.09,1,5,10,25]}\n",
    "grid_clf_acc = GridSearchCV(clf, param_grid = grid_values,scoring = 'recall')\n",
    "grid_clf_acc.fit(X_train, y_train)\n",
    "y_pred_logistic = grid_clf_acc.predict(X_test)\n",
    "\n",
    "# XG Boost\n",
    "param_test4 = {\n",
    " 'subsample':[i/10.0 for i in range(6,10)],\n",
    " 'colsample_bytree':[i/10.0 for i in range(6,10)]\n",
    "}\n",
    "gsearch4 = GridSearchCV(estimator = XGBClassifier( learning_rate =0.1, n_estimators=177, max_depth=4,\n",
    " min_child_weight=6, gamma=0, subsample=0.8, colsample_bytree=0.8,\n",
    " objective= 'binary:logistic', nthread=4, scale_pos_weight=1,seed=27), \n",
    " param_grid = param_test4, scoring='roc_auc',n_jobs=4,iid=False, cv=5)\n",
    "gsearch4.fit(X_train, y_train)\n",
    "y_pred_xgboost = gsearch4.predict(X_test)\n",
    "\n",
    "print('Random Forest\\n')\n",
    "print_metrics(y_test, y_pred_rf)\n",
    "print ('Logictic Regression\\n')\n",
    "print_metrics(y_test, y_pred_logistic)\n",
    "print ('XG Boost\\n')\n",
    "print_metrics(y_test, y_pred_xgboost)"
   ]
  },
  {
   "cell_type": "code",
   "execution_count": null,
   "metadata": {},
   "outputs": [],
   "source": [
    "grid_clf_acc.best_params_"
   ]
  },
  {
   "cell_type": "code",
   "execution_count": null,
   "metadata": {},
   "outputs": [],
   "source": [
    "lg = LogisticRegression(max_iter=10000, C = 0.01, penalty='l2')\n",
    "selector = lg.fit(X_train, y_train)\n",
    "plot_AUC(selector, X_test, y_test)"
   ]
  },
  {
   "cell_type": "code",
   "execution_count": null,
   "metadata": {},
   "outputs": [],
   "source": []
  },
  {
   "cell_type": "code",
   "execution_count": null,
   "metadata": {},
   "outputs": [],
   "source": [
    "rf=RandomForestClassifier(random_state=42, max_features='auto', n_estimators= 100, max_depth=8, criterion='entropy', oob_score = True)\n",
    "selector = rf.fit(X_train, y_train)\n",
    "explainer = shap.TreeExplainer(selector)\n",
    "shap_values = explainer.shap_values(X)\n",
    "f = plt.figure()\n",
    "shap.initjs()\n",
    "shap.summary_plot(shap_values, X)\n",
    "f.savefig('../results/shap.png', bbox_inches='tight', dpi=600)"
   ]
  },
  {
   "cell_type": "code",
   "execution_count": null,
   "metadata": {},
   "outputs": [],
   "source": [
    "shap.summary_plot(shap_values[0], X)"
   ]
  },
  {
   "cell_type": "code",
   "execution_count": null,
   "metadata": {},
   "outputs": [],
   "source": [
    "instance_to_explain = 3\n",
    "shap.force_plot(explainer.expected_value[1], shap_values[1][instance_to_explain], X_test.iloc[instance_to_explain])"
   ]
  },
  {
   "cell_type": "code",
   "execution_count": null,
   "metadata": {},
   "outputs": [],
   "source": []
  }
 ],
 "metadata": {
  "kernelspec": {
   "display_name": "OngoEnv",
   "language": "python",
   "name": "ongoenv"
  },
  "language_info": {
   "codemirror_mode": {
    "name": "ipython",
    "version": 3
   },
   "file_extension": ".py",
   "mimetype": "text/x-python",
   "name": "python",
   "nbconvert_exporter": "python",
   "pygments_lexer": "ipython3",
   "version": "3.8.2"
  },
  "toc-autonumbering": false,
  "toc-showcode": false,
  "toc-showmarkdowntxt": true,
  "toc-showtags": false
 },
 "nbformat": 4,
 "nbformat_minor": 4
}
