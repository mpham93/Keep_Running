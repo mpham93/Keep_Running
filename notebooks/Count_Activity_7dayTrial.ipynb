{
 "cells": [
  {
   "cell_type": "markdown",
   "metadata": {},
   "source": [
    "## Import packages"
   ]
  },
  {
   "cell_type": "code",
   "execution_count": 15,
   "metadata": {},
   "outputs": [],
   "source": [
    "import pandas as pd\n",
    "import numpy as np\n",
    "import matplotlib.pyplot as plt\n",
    "%matplotlib inline\n",
    "import seaborn as sns\n",
    "import os, sys\n",
    "from IPython import embed\n",
    "from sklearn import metrics, svm\n",
    "from sklearn.linear_model import LogisticRegression\n",
    "from sklearn.ensemble import RandomForestClassifier, RandomForestRegressor\n",
    "from sklearn.preprocessing import MinMaxScaler, StandardScaler, LabelEncoder\n",
    "from sklearn.feature_selection import SelectKBest\n",
    "from sklearn.pipeline import Pipeline\n",
    "from sklearn.model_selection import train_test_split, GridSearchCV, RandomizedSearchCV\n",
    "from sklearn.base import clone \n",
    "import eli5\n",
    "from eli5.sklearn import PermutationImportance"
   ]
  },
  {
   "cell_type": "code",
   "execution_count": null,
   "metadata": {},
   "outputs": [],
   "source": []
  },
  {
   "cell_type": "markdown",
   "metadata": {},
   "source": [
    "## Preprocessing\n",
    "Read data to pandas dataframe"
   ]
  },
  {
   "cell_type": "code",
   "execution_count": 16,
   "metadata": {},
   "outputs": [
    {
     "name": "stderr",
     "output_type": "stream",
     "text": [
      "/Users/minhpham/Desktop/Ongo/Ongo/OngoEnv/lib/python3.8/site-packages/numpy/lib/arraysetops.py:580: FutureWarning: elementwise comparison failed; returning scalar instead, but in the future will perform elementwise comparison\n",
      "  mask |= (ar1 == a)\n"
     ]
    }
   ],
   "source": [
    "data_dir = '../data/S3/AppEventData/'\n",
    "CommunityMember = pd.read_csv(data_dir+'CommunityMember.csv', sep=',', quotechar='\"', index_col=0)\n",
    "SubscriptionHistory = pd.read_csv(data_dir+'SubscriptionHistory.csv', sep=',', quotechar='\"', index_col=0)\n",
    "\n",
    "iosActivityComplete = pd.read_csv(data_dir+'ios.activity_complete.csv', sep=',', quotechar='\"', index_col=0)\n",
    "iosSessionCompleted = pd.read_csv(data_dir+'ios.session_completed.csv', sep=',', quotechar='\"', index_col=0)\n",
    "iosLibrarySelectedTab = pd.read_csv(data_dir+'ios.library_selected_tab.csv', sep=',', quotechar='\"', index_col=0)\n",
    "iosScreenViewed = pd.read_csv(data_dir+'ios.screen_viewed.csv', sep=',', quotechar='\"', index_col=0)\n",
    "iosAppForeground = pd.read_csv(data_dir+'ios.app_enter_foreground.csv', sep=',', quotechar='\"', index_col=0)\n",
    "iosSessionViewed = pd.read_csv(data_dir+'ios.session_element_viewed.csv', sep=',', quotechar='\"', index_col=0)\n",
    "\n",
    "androidActivityComplete   = pd.read_csv(data_dir+'ongo_android.activity_complete.csv', sep=',', quotechar='\"', index_col=0)\n",
    "androidSessionCompleted   = pd.read_csv(data_dir+'ongo_android.session_completed.csv', sep=',', quotechar='\"', index_col=0)\n",
    "androidLibrarySelectedTab = pd.read_csv(data_dir+'ongo_android.library_selected_tab.csv', sep=',', quotechar='\"', index_col=0)\n",
    "androidScreenViewed       = pd.read_csv(data_dir+'ongo_android.screen_viewed.csv', sep=',', quotechar='\"', index_col=0)\n",
    "androidAppForeground      = pd.read_csv(data_dir+'ongo_android.app_enter_foreground.csv', sep=',', quotechar='\"', index_col=0)\n",
    "androidSessionViewed = pd.read_csv(data_dir+'ongo_android.session_element_viewed.csv', sep=',', quotechar='\"', index_col=0)\n",
    "\n",
    "treActivityComplete   = pd.read_csv(data_dir+'tre.activity_complete.csv', sep=',', quotechar='\"', index_col=0)\n",
    "treSessionCompleted   = pd.read_csv(data_dir+'tre.session_completed.csv', sep=',', quotechar='\"', index_col=0)\n",
    "treScreenViewed       = pd.read_csv(data_dir+'tre.screen_viewed.csv', sep=',', quotechar='\"', index_col=0)\n",
    "treSessionViewed = pd.read_csv(data_dir+'tre.session_element_viewed.csv', sep=',', quotechar='\"', index_col=0)"
   ]
  },
  {
   "cell_type": "markdown",
   "metadata": {},
   "source": [
    "Format date data types"
   ]
  },
  {
   "cell_type": "code",
   "execution_count": 17,
   "metadata": {},
   "outputs": [],
   "source": [
    "SubscriptionHistory.eventDate = pd.to_datetime(SubscriptionHistory.eventDate)\n",
    "SubscriptionHistory.eventDate = SubscriptionHistory.eventDate.dt.normalize()\n",
    "iosActivityComplete['received_at'] = pd.to_datetime(iosActivityComplete['received_at'])\n",
    "iosSessionCompleted['received_at'] = pd.to_datetime(iosSessionCompleted['received_at'])\n",
    "iosLibrarySelectedTab['received_at'] = pd.to_datetime(iosLibrarySelectedTab['received_at'])\n",
    "iosScreenViewed['received_at'] = pd.to_datetime(iosScreenViewed['received_at'])\n",
    "iosAppForeground['received_at'] = pd.to_datetime(iosAppForeground['received_at'])\n",
    "iosSessionViewed['received_at'] = pd.to_datetime(iosSessionViewed['received_at'])\n",
    "\n",
    "androidActivityComplete['received_at']   = pd.to_datetime(androidActivityComplete['received_at']).dt.normalize()\n",
    "androidSessionCompleted['received_at']   = pd.to_datetime(androidSessionCompleted['received_at']).dt.normalize()\n",
    "androidLibrarySelectedTab['received_at'] = pd.to_datetime(androidLibrarySelectedTab['received_at']).dt.normalize()\n",
    "androidScreenViewed['received_at']       = pd.to_datetime(androidScreenViewed['received_at']).dt.normalize()\n",
    "androidAppForeground['received_at']      = pd.to_datetime(androidAppForeground['received_at']).dt.normalize()\n",
    "androidSessionViewed['received_at'] = pd.to_datetime(androidSessionViewed['received_at'])\n",
    "\n",
    "treActivityComplete['received_at']   = pd.to_datetime(treActivityComplete['received_at']).dt.normalize()\n",
    "treSessionCompleted['received_at']   = pd.to_datetime(treSessionCompleted['received_at']).dt.normalize()\n",
    "treScreenViewed['received_at']       = pd.to_datetime(treScreenViewed['received_at']).dt.normalize()\n",
    "treSessionViewed['received_at'] = pd.to_datetime(treSessionViewed['received_at'])"
   ]
  },
  {
   "cell_type": "markdown",
   "metadata": {},
   "source": [
    "Merge data tables"
   ]
  },
  {
   "cell_type": "code",
   "execution_count": 18,
   "metadata": {},
   "outputs": [],
   "source": [
    "ActivityComplete = pd.concat([iosActivityComplete, androidActivityComplete, treActivityComplete])\n",
    "SessionCompleted = pd.concat([iosSessionCompleted, androidSessionCompleted, treSessionCompleted])\n",
    "LibrarySelectedTab = pd.concat([iosLibrarySelectedTab, androidLibrarySelectedTab])\n",
    "ScreenViewed = pd.concat([iosScreenViewed, androidScreenViewed, treScreenViewed])\n",
    "AppForeground = pd.concat([iosAppForeground, androidAppForeground])\n",
    "SessionViewed = pd.concat([iosSessionViewed, androidSessionViewed, treSessionViewed])"
   ]
  },
  {
   "cell_type": "markdown",
   "metadata": {},
   "source": [
    "Remove Legacy/Hubspot and Administrator users"
   ]
  },
  {
   "cell_type": "code",
   "execution_count": 19,
   "metadata": {},
   "outputs": [
    {
     "data": {
      "text/plain": [
       "(51153, 2268)"
      ]
     },
     "execution_count": 19,
     "metadata": {},
     "output_type": "execute_result"
    }
   ],
   "source": [
    "CommunityMember_filter = CommunityMember[CommunityMember['membershipName'] != 'Legacy']\n",
    "CommunityMember_filter = CommunityMember_filter[CommunityMember_filter['membershipSource'] != 'Administrator']\n",
    "CommunityMember_filter = CommunityMember_filter[CommunityMember_filter['membershipSource'] != 'Hubspot']\n",
    "CommunityMember_filter = CommunityMember_filter[CommunityMember_filter.goal.notnull()]\n",
    "CommunityMember_filter = CommunityMember_filter[CommunityMember_filter.exp.notnull()]\n",
    "CommunityMember_filter_id = CommunityMember_filter.user.unique()\n",
    "# non-subscribers vs subscribers\n",
    "CommunityMember_filter[CommunityMember_filter['membershipSource']=='Unknown'].shape[0], CommunityMember_filter[CommunityMember_filter['membershipSource']!='Unknown'].shape[0]"
   ]
  },
  {
   "cell_type": "code",
   "execution_count": null,
   "metadata": {},
   "outputs": [],
   "source": []
  },
  {
   "cell_type": "markdown",
   "metadata": {},
   "source": [
    "## Select users\n",
    "Select users with purchase and users with free trials"
   ]
  },
  {
   "cell_type": "code",
   "execution_count": 20,
   "metadata": {},
   "outputs": [
    {
     "data": {
      "text/plain": [
       "(1559, 1629, 712)"
      ]
     },
     "execution_count": 20,
     "metadata": {},
     "output_type": "execute_result"
    }
   ],
   "source": [
    "SubscriptionHistory_purchase = SubscriptionHistory[SubscriptionHistory.event == 'subscription-purchase']\n",
    "SubscriptionHistory_freeTrial = SubscriptionHistory[SubscriptionHistory.event == 'subscription-free-trial']\n",
    "SubscriptionHistory_purchase_id = SubscriptionHistory_purchase.user.unique()\n",
    "SubscriptionHistory_freeTrial_id = SubscriptionHistory_freeTrial.user.unique()\n",
    "len(SubscriptionHistory_purchase_id), len(SubscriptionHistory_freeTrial_id), len(set(SubscriptionHistory_purchase_id).intersection(SubscriptionHistory_freeTrial_id))"
   ]
  },
  {
   "cell_type": "markdown",
   "metadata": {},
   "source": [
    "Select users with purchase converted from trial"
   ]
  },
  {
   "cell_type": "code",
   "execution_count": 21,
   "metadata": {},
   "outputs": [
    {
     "name": "stdout",
     "output_type": "stream",
     "text": [
      "917 nonconverted trial users, 707 converted trial users\n"
     ]
    }
   ],
   "source": [
    "convertedFromTrial_id = SubscriptionHistory[SubscriptionHistory.convertedFromTrial == bool('True')].user.unique()\n",
    "nonconverted_trial = set(SubscriptionHistory_freeTrial_id).difference(SubscriptionHistory_purchase_id)\n",
    "converted_trial = set(SubscriptionHistory_freeTrial_id).intersection(SubscriptionHistory_purchase_id).intersection(convertedFromTrial_id)\n",
    "print (f'{len(nonconverted_trial)} nonconverted trial users, {len(converted_trial)} converted trial users')"
   ]
  },
  {
   "cell_type": "markdown",
   "metadata": {},
   "source": [
    "Select users that are not Legacy/Hubspot/Admin"
   ]
  },
  {
   "cell_type": "code",
   "execution_count": 22,
   "metadata": {},
   "outputs": [
    {
     "name": "stdout",
     "output_type": "stream",
     "text": [
      "Filtering the Legacy and Admin users: 864 nonconverted, 696 converted\n"
     ]
    }
   ],
   "source": [
    "nonconverted = nonconverted_trial.intersection(CommunityMember_filter_id)\n",
    "converted = converted_trial.intersection(CommunityMember_filter_id)\n",
    "print (f'Filtering the Legacy and Admin users: {len(nonconverted)} nonconverted, {len(converted)} converted')\n",
    "IDs = list(nonconverted) + list(converted)"
   ]
  },
  {
   "cell_type": "code",
   "execution_count": null,
   "metadata": {},
   "outputs": [],
   "source": []
  },
  {
   "cell_type": "markdown",
   "metadata": {},
   "source": [
    "Comment data"
   ]
  },
  {
   "cell_type": "code",
   "execution_count": 23,
   "metadata": {},
   "outputs": [
    {
     "data": {
      "text/plain": [
       "\"\\nCommentUser = pd.read_csv(data_dir+'user_ids_Eric.csv', sep=',', index_col=0)\\n\\n_id = CommentUser._id.unique()\\nowner = CommentUser.owner.unique()\\nCommentID = set(list(_id)+list(owner))\\nprint (f'{len(_id)} _id, {len(owner)} owner, {len(set(CommentID))} total')\\nprint (f'{len(set(nonconverted).intersection(owner))} nonconverted with comments,        {len(set(converted).intersection(owner))} converted with comments')\\nprint (f'{len(set(SubscriptionHistory_purchase_id).intersection(owner))} general subscribers with comments')\\nCommunityMember[CommunityMember.user.isin(owner)].groupby(['membershipName'], dropna = False).agg(['count'])\\n\""
      ]
     },
     "execution_count": 23,
     "metadata": {},
     "output_type": "execute_result"
    }
   ],
   "source": [
    "'''\n",
    "CommentUser = pd.read_csv(data_dir+'user_ids_Eric.csv', sep=',', index_col=0)\n",
    "\n",
    "_id = CommentUser._id.unique()\n",
    "owner = CommentUser.owner.unique()\n",
    "CommentID = set(list(_id)+list(owner))\n",
    "print (f'{len(_id)} _id, {len(owner)} owner, {len(set(CommentID))} total')\n",
    "print (f'{len(set(nonconverted).intersection(owner))} nonconverted with comments, \\\n",
    "       {len(set(converted).intersection(owner))} converted with comments')\n",
    "print (f'{len(set(SubscriptionHistory_purchase_id).intersection(owner))} general subscribers with comments')\n",
    "CommunityMember[CommunityMember.user.isin(owner)].groupby(['membershipName'], dropna = False).agg(['count'])\n",
    "'''"
   ]
  },
  {
   "cell_type": "markdown",
   "metadata": {},
   "source": [
    "==> There are a lot of nonsubscribers' comments more than subscribers? Eric shows data that most comments are positive. What happen? \\\n",
    "    - Eyeballing to see the comments \\\n",
    "    - Check the app activity of these groups"
   ]
  },
  {
   "cell_type": "code",
   "execution_count": null,
   "metadata": {},
   "outputs": [],
   "source": []
  },
  {
   "cell_type": "markdown",
   "metadata": {},
   "source": [
    "\n",
    "## Select event dates for app activities: select those within 7 days of free trials\n",
    "Function"
   ]
  },
  {
   "cell_type": "code",
   "execution_count": 24,
   "metadata": {},
   "outputs": [],
   "source": [
    "def filter_id_date (df, IDs=IDs, SubscriptionHistory=SubscriptionHistory):\n",
    "    df_id = df[df['user_id'].isin(IDs)]\n",
    "    for ID in IDs:\n",
    "        trial_start = SubscriptionHistory[SubscriptionHistory['user']==ID][SubscriptionHistory['event']=='subscription-free-trial']['eventDate']\n",
    "        trial_end = trial_start + pd.DateOffset(days=7)\n",
    "        trial_start = trial_start.values[0]\n",
    "        trial_end = trial_end.values[0]\n",
    "        index_drop = df_id[(df_id['user_id'] == ID)&(df_id['received_at']<=trial_start)].index\n",
    "        df_id.drop(index_drop, inplace = True)\n",
    "        index_drop = df_id[(df_id['user_id'] == ID)&(df_id['received_at']>=trial_end)].index\n",
    "        df_id.drop(index_drop, inplace = True)\n",
    "    print (f'original shape {df.shape}, after filtering {df_id.shape}')\n",
    "    return df_id"
   ]
  },
  {
   "cell_type": "markdown",
   "metadata": {},
   "source": [
    "Select event dates"
   ]
  },
  {
   "cell_type": "code",
   "execution_count": 25,
   "metadata": {},
   "outputs": [
    {
     "name": "stderr",
     "output_type": "stream",
     "text": [
      "<ipython-input-24-1dd9e2821d1a>:4: UserWarning: Boolean Series key will be reindexed to match DataFrame index.\n",
      "  trial_start = SubscriptionHistory[SubscriptionHistory['user']==ID][SubscriptionHistory['event']=='subscription-free-trial']['eventDate']\n",
      "/Users/minhpham/Desktop/Ongo/Ongo/OngoEnv/lib/python3.8/site-packages/pandas/core/frame.py:4162: SettingWithCopyWarning: \n",
      "A value is trying to be set on a copy of a slice from a DataFrame\n",
      "\n",
      "See the caveats in the documentation: https://pandas.pydata.org/pandas-docs/stable/user_guide/indexing.html#returning-a-view-versus-a-copy\n",
      "  return super().drop(\n"
     ]
    },
    {
     "name": "stdout",
     "output_type": "stream",
     "text": [
      "original shape (33024, 3), after filtering (2106, 3)\n",
      "original shape (138615, 3), after filtering (5353, 3)\n",
      "original shape (224454, 3), after filtering (6271, 3)\n",
      "original shape (8248479, 3), after filtering (57074, 3)\n",
      "original shape (649540, 2), after filtering (12044, 2)\n",
      "original shape (1820641, 3), after filtering (69396, 3)\n"
     ]
    }
   ],
   "source": [
    "ActivityComplete_filter   = filter_id_date(ActivityComplete)\n",
    "SessionCompleted_filter   = filter_id_date(SessionCompleted)\n",
    "LibrarySelectedTab_filter = filter_id_date(LibrarySelectedTab)\n",
    "ScreenViewed_filter       = filter_id_date(ScreenViewed)\n",
    "AppForeground_filter      = filter_id_date(AppForeground)\n",
    "SessionViewed_filter      = filter_id_date(SessionViewed)"
   ]
  },
  {
   "cell_type": "markdown",
   "metadata": {},
   "source": [
    "Count number of activities during the 7-day trials for each users"
   ]
  },
  {
   "cell_type": "code",
   "execution_count": 26,
   "metadata": {},
   "outputs": [],
   "source": [
    "ActivityComplete_cnt   = ActivityComplete_filter.groupby(['user_id']).agg(['count'])\n",
    "SessionCompleted_cnt   = SessionCompleted_filter.groupby(['user_id']).agg(['count'])\n",
    "LibrarySelectedTab_cnt = LibrarySelectedTab_filter.groupby(['user_id']).agg(['count'])\n",
    "ScreenViewed_cnt       = ScreenViewed_filter.groupby(['user_id']).agg(['count'])\n",
    "AppForeground_cnt      = AppForeground_filter.groupby(['user_id']).agg(['count'])\n",
    "SessionViewed_cnt      = SessionViewed_filter.groupby(['user_id']).agg(['count'])"
   ]
  },
  {
   "cell_type": "code",
   "execution_count": null,
   "metadata": {},
   "outputs": [],
   "source": []
  },
  {
   "cell_type": "markdown",
   "metadata": {},
   "source": [
    "## Create a dataframe with features for converted and non-converted trial users\n",
    "Column 'Converted': True = converted, False = nonconverted "
   ]
  },
  {
   "cell_type": "code",
   "execution_count": 27,
   "metadata": {},
   "outputs": [],
   "source": [
    "feature_df = pd.DataFrame(index = IDs, columns=['Converted'])\n",
    "feature_df.index.name = 'user'\n",
    "feature_df['Converted'] = bool(True)\n",
    "feature_df.loc[list(nonconverted), 'Converted'] =  bool(False)"
   ]
  },
  {
   "cell_type": "markdown",
   "metadata": {},
   "source": [
    "Get features of goal and exp from CommunityMember table"
   ]
  },
  {
   "cell_type": "code",
   "execution_count": 28,
   "metadata": {},
   "outputs": [],
   "source": [
    "CommunityMember_join = CommunityMember[['user','goal', 'exp']].set_index('user')\n",
    "feature_df = feature_df.join(CommunityMember_join)"
   ]
  },
  {
   "cell_type": "markdown",
   "metadata": {},
   "source": [
    "Get features of app activity counts"
   ]
  },
  {
   "cell_type": "code",
   "execution_count": 29,
   "metadata": {},
   "outputs": [],
   "source": [
    "ActivityComplete_join = ActivityComplete_cnt['received_at'].rename(columns={'count':'ActivityComplete_cnt'})\n",
    "feature_df = feature_df.join(ActivityComplete_join)\n",
    "\n",
    "SessionCompleted_join = SessionCompleted_cnt['received_at'].rename(columns={'count':'SessionCompleted_cnt'})\n",
    "feature_df = feature_df.join(SessionCompleted_join)\n",
    "\n",
    "LibrarySelectedTab_join = LibrarySelectedTab_cnt['received_at'].rename(columns={'count':'LibrarySelectedTab_cnt'})\n",
    "feature_df = feature_df.join(LibrarySelectedTab_join)\n",
    "\n",
    "ScreenViewed_join = ScreenViewed_cnt['received_at'].rename(columns={'count':'ScreenViewed_cnt'})\n",
    "feature_df = feature_df.join(ScreenViewed_join)\n",
    "\n",
    "AppForeground_join = AppForeground_cnt['received_at'].rename(columns={'count':'AppForeground_cnt'})\n",
    "feature_df = feature_df.join(AppForeground_join)\n",
    "\n",
    "SessionViewed_join = SessionViewed_cnt['received_at'].rename(columns={'count':'SessionViewed_cnt'})\n",
    "feature_df = feature_df.join(SessionViewed_join)\n",
    "\n",
    "feature_df = feature_df.fillna(0)"
   ]
  },
  {
   "cell_type": "markdown",
   "metadata": {},
   "source": [
    "One-hot encoding for features 'goal' and 'exp'"
   ]
  },
  {
   "cell_type": "code",
   "execution_count": 30,
   "metadata": {},
   "outputs": [],
   "source": [
    "feature_df = pd.concat([feature_df,pd.get_dummies(feature_df['goal'], prefix='goal')],axis=1)\n",
    "feature_df.drop(['goal'],axis=1, inplace=True)\n",
    "\n",
    "feature_df = pd.concat([feature_df,pd.get_dummies(feature_df['exp'], prefix='exp')],axis=1)\n",
    "feature_df.drop(['exp'],axis=1, inplace=True)"
   ]
  },
  {
   "cell_type": "code",
   "execution_count": null,
   "metadata": {},
   "outputs": [],
   "source": []
  },
  {
   "cell_type": "markdown",
   "metadata": {},
   "source": [
    "## A predictive model for plan conversion of trial users\n",
    "Make train and test sets"
   ]
  },
  {
   "cell_type": "code",
   "execution_count": 31,
   "metadata": {},
   "outputs": [],
   "source": [
    "X = feature_df.loc[:,feature_df.columns!='Converted']\n",
    "y = feature_df['Converted']\n",
    "X_train, X_test, y_train, y_test = train_test_split(X, y, test_size=0.1, random_state=0)"
   ]
  },
  {
   "cell_type": "markdown",
   "metadata": {},
   "source": [
    "Functions to create feature importance visualization"
   ]
  },
  {
   "cell_type": "code",
   "execution_count": 32,
   "metadata": {},
   "outputs": [],
   "source": [
    "# function for creating a feature importance dataframe\n",
    "def imp_df(column_names, importances):\n",
    "    df = pd.DataFrame({'feature': column_names,\n",
    "                       'feature_importance': importances}) \\\n",
    "           .sort_values('feature_importance', ascending = False) \\\n",
    "           .reset_index(drop = True)\n",
    "    return df\n",
    "# plotting a feature importance dataframe (horizontal barchart)\n",
    "def var_imp_plot(imp_df, title):\n",
    "    imp_df.columns = ['feature', 'feature_importance']\n",
    "    sns.barplot(x = 'feature_importance', y = 'feature', data = imp_df, orient = 'h', color = 'royalblue') \\\n",
    "       .set_title(title, fontsize = 20)\n",
    "    plt.savefig(f'../results/{title}.png', bbox_inches='tight',dpi=100, transparent = True)"
   ]
  },
  {
   "cell_type": "markdown",
   "metadata": {},
   "source": [
    "Grid search hyperparameters for Random Forest Classifier"
   ]
  },
  {
   "cell_type": "code",
   "execution_count": 33,
   "metadata": {},
   "outputs": [
    {
     "data": {
      "text/plain": [
       "{'criterion': 'gini',\n",
       " 'max_depth': 4,\n",
       " 'max_features': 'auto',\n",
       " 'n_estimators': 500}"
      ]
     },
     "execution_count": 33,
     "metadata": {},
     "output_type": "execute_result"
    }
   ],
   "source": [
    "rfc=RandomForestClassifier(random_state=42)\n",
    "param_grid = { \n",
    "    'n_estimators': [100, 500],\n",
    "    'max_features': ['auto', 'sqrt', 'log2'],\n",
    "    'max_depth' : [4,5,6,7,8],\n",
    "    'criterion' :['gini', 'entropy']\n",
    "}\n",
    "CV_rfc = GridSearchCV(estimator=rfc, param_grid=param_grid, cv= 5)\n",
    "CV_rfc.fit(X_train, y_train)\n",
    "CV_rfc.best_params_"
   ]
  },
  {
   "cell_type": "markdown",
   "metadata": {},
   "source": [
    "Run the model with the best performing hyperparameters"
   ]
  },
  {
   "cell_type": "code",
   "execution_count": 34,
   "metadata": {},
   "outputs": [
    {
     "name": "stdout",
     "output_type": "stream",
     "text": [
      "R^2 Training Score: 0.70 \n",
      "OOB Score: 0.67 \n",
      "R^2 Test Score: 0.67\n"
     ]
    }
   ],
   "source": [
    "rf=RandomForestClassifier(random_state=42, max_features='auto', n_estimators= 500, max_depth=4, criterion='gini', oob_score = True)\n",
    "rf.fit(X_train, y_train)\n",
    "print('R^2 Training Score: {:.2f} \\nOOB Score: {:.2f} \\nR^2 Test Score: {:.2f}'.format(rf.score(X_train, y_train), \n",
    "                                                                                    rf.oob_score_,\n",
    "                                                                                    rf.score(X_test, y_test)))"
   ]
  },
  {
   "cell_type": "markdown",
   "metadata": {},
   "source": [
    "Plotting"
   ]
  },
  {
   "cell_type": "code",
   "execution_count": 35,
   "metadata": {},
   "outputs": [
    {
     "data": {
      "image/png": "[encoded data removed]",
      "text/plain": [
       "<Figure size 432x288 with 1 Axes>"
      ]
     },
     "metadata": {
      "needs_background": "light"
     },
     "output_type": "display_data"
    }
   ],
   "source": [
    "base_imp = imp_df(X_train.columns, rf.feature_importances_)\n",
    "var_imp_plot(base_imp, 'Default feature importance (sklearn)')"
   ]
  },
  {
   "cell_type": "code",
   "execution_count": 36,
   "metadata": {},
   "outputs": [
    {
     "data": {
      "image/png": "[encoded data removed]",
      "text/plain": [
       "<Figure size 432x288 with 1 Axes>"
      ]
     },
     "metadata": {
      "needs_background": "light"
     },
     "output_type": "display_data"
    }
   ],
   "source": [
    "perm = PermutationImportance(rf, cv = None, refit = False, n_iter = 50).fit(X_train, y_train)\n",
    "perm_imp_eli5 = imp_df(X_train.columns, perm.feature_importances_)\n",
    "var_imp_plot(perm_imp_eli5, 'Permutation feature importance (eli5)')"
   ]
  },
  {
   "cell_type": "code",
   "execution_count": 37,
   "metadata": {},
   "outputs": [
    {
     "data": {
      "image/png": "[encoded data removed]",
      "text/plain": [
       "<Figure size 432x288 with 1 Axes>"
      ]
     },
     "metadata": {
      "needs_background": "light"
     },
     "output_type": "display_data"
    }
   ],
   "source": [
    "def drop_col_feat_imp(model, X_train, y_train, random_state = 42):\n",
    "    # clone the model to have the exact same specification as the one initially trained\n",
    "    model_clone = clone(model)\n",
    "    # set random_state for comparability\n",
    "    model_clone.random_state = random_state\n",
    "    # training and scoring the benchmark model\n",
    "    model_clone.fit(X_train, y_train)\n",
    "    benchmark_score = model_clone.score(X_train, y_train)\n",
    "    # list for storing feature importances\n",
    "    importances = []\n",
    "    # iterating over all columns and storing feature importance (difference between benchmark and new model)\n",
    "    for col in X_train.columns:\n",
    "        model_clone = clone(model)\n",
    "        model_clone.random_state = random_state\n",
    "        model_clone.fit(X_train.drop(col, axis = 1), y_train)\n",
    "        drop_col_score = model_clone.score(X_train.drop(col, axis = 1), y_train)\n",
    "        importances.append(benchmark_score - drop_col_score)\n",
    "    importances_df = imp_df(X_train.columns, importances)\n",
    "    return importances_df\n",
    "drop_imp = drop_col_feat_imp(rf, X_train, y_train)\n",
    "var_imp_plot(drop_imp, 'Drop Column feature importance')"
   ]
  },
  {
   "cell_type": "code",
   "execution_count": 38,
   "metadata": {},
   "outputs": [
    {
     "data": {
      "image/png": "[encoded data removed]",
      "text/plain": [
       "<Figure size 432x288 with 1 Axes>"
      ]
     },
     "metadata": {
      "needs_background": "light"
     },
     "output_type": "display_data"
    }
   ],
   "source": [
    "probs = rf.predict_proba(X_test)\n",
    "preds = probs[:,1]\n",
    "fpr, tpr, threshold = metrics.roc_curve(y_test, preds)\n",
    "roc_auc = metrics.auc(fpr, tpr)\n",
    "plt.figure()\n",
    "plt.plot(fpr, tpr, label='Random Forrest Classifier (area = %0.2f)' % roc_auc)\n",
    "plt.plot([0, 1], [0, 1],'r--')\n",
    "plt.xlim([0.0, 1.0])\n",
    "plt.ylim([0.0, 1.05])\n",
    "plt.xlabel('False Positive Rate')\n",
    "plt.ylabel('True Positive Rate')\n",
    "plt.title('Receiver operating characteristic')\n",
    "plt.legend(loc=\"lower right\")\n",
    "plt.savefig('../results/AUROC.png', bbox_inches='tight',dpi=100, transparent = True)"
   ]
  },
  {
   "cell_type": "code",
   "execution_count": null,
   "metadata": {},
   "outputs": [],
   "source": []
  }
 ],
 "metadata": {
  "kernelspec": {
   "display_name": "OngoEnv",
   "language": "python",
   "name": "ongoenv"
  },
  "language_info": {
   "codemirror_mode": {
    "name": "ipython",
    "version": 3
   },
   "file_extension": ".py",
   "mimetype": "text/x-python",
   "name": "python",
   "nbconvert_exporter": "python",
   "pygments_lexer": "ipython3",
   "version": "3.8.2"
  }
 },
 "nbformat": 4,
 "nbformat_minor": 4
}
